{
 "cells": [
  {
   "cell_type": "code",
   "execution_count": 2,
   "metadata": {},
   "outputs": [],
   "source": [
    "%matplotlib inline\n",
    "from matplotlib import pyplot as plt\n",
    "plt.style.use('ggplot')\n",
    "import numpy as np\n",
    "import pandas as pd\n",
    "from copy import deepcopy\n",
    "from numpy.random import randint\n",
    "import random\n",
    "import itertools \n",
    "from operator import itemgetter\n",
    "\n",
    "from sklearn.datasets import make_regression\n",
    "from sklearn.linear_model import LinearRegression\n",
    "from sklearn.tree import DecisionTreeRegressor\n",
    "from sklearn.metrics import mean_squared_error\n",
    "from sklearn.model_selection import train_test_split\n",
    "from sklearn.pipeline import Pipeline\n",
    "from sklearn.preprocessing import PolynomialFeatures\n",
    "\n",
    "from vf_portalytics.feature_subset import FeatureSubsetModel, FeatureSubsetTransform\n",
    "from vf_portalytics.model import PredictionModel"
   ]
  },
  {
   "cell_type": "code",
   "execution_count": 2,
   "metadata": {},
   "outputs": [],
   "source": [
    "def make_dataset(n_samples, n_features, n_informative, **kwargs):\n",
    "    x, y = make_regression(\n",
    "        n_samples=n_samples, \n",
    "        n_features=n_features,\n",
    "        noise=0.5,\n",
    "        n_informative=n_informative, \n",
    "        random_state=0\n",
    "    )\n",
    "    x = pd.DataFrame(x)\n",
    "    \n",
    "    x.columns = ['feature_' + str(i) for i in range(n_features)]\n",
    "    x = x.assign(**kwargs)\n",
    "    return x, pd.Series(y, name='target')\n",
    "\n",
    "\n",
    "# Generate data for 4 different categories\n",
    "# different #samples for each category but the same #features since they belong to the same dataset\n",
    "n_features = 20\n",
    "x1, y1 = make_dataset(n_samples=100, n_features=n_features, n_informative=10, category='A')\n",
    "x2, y2 = make_dataset(n_samples=150, n_features=n_features, n_informative=8, category='B')\n",
    "x3, y3 = make_dataset(n_samples=80, n_features=n_features, n_informative=7, category='C')\n",
    "x4, y4 = make_dataset(n_samples=120, n_features=n_features, n_informative=12, category='D')\n",
    "\n",
    "# combine into one dataset\n",
    "total_x = pd.concat([x1, x2, x3, x4], axis=0, ignore_index=True).reset_index(drop=True)\n",
    "total_y = pd.concat([y1, y2, y3, y4], axis=0, ignore_index=True).reset_index(drop=True)\n",
    "\n",
    "# make two random features categorical\n",
    "labels = ['g1', 'g2', 'g3']\n",
    "bins = [[],[]]\n",
    "for i in range(2):\n",
    "    bins[i] = [-np.inf, \n",
    "               total_x['feature_' + str(i)].mean() - total_x['feature_' + str(i)].std(), \n",
    "               total_x['feature_' + str(i)].mean() + total_x['feature_' + str(i)].std(), \n",
    "               total_x['feature_' + str(i)].max()]\n",
    "total_x['feature_0'] = pd.cut(total_x['feature_0'], bins=bins[0], labels=labels).astype('object')\n",
    "total_x['feature_1'] = pd.cut(total_x['feature_1'], bins=bins[1], labels=labels).astype('object')"
   ]
  },
  {
   "cell_type": "markdown",
   "metadata": {
    "pycharm": {
     "name": "#%% md\n"
    }
   },
   "source": [
    "## Generate data and lookup dictionary"
   ]
  },
  {
   "cell_type": "code",
   "execution_count": 3,
   "metadata": {
    "pycharm": {
     "name": "#%%\n"
    }
   },
   "outputs": [],
   "source": [
    "collumn_names = ['promoted_price', 'consumer_length', \n",
    "                 'yearweek',  'original_product_dimension_44', 'product_volume_per_sku']\n",
    "\n",
    "x1, y1 = make_dataset(1, 5, collumn_names, account_banner='A', product_desc='X')\n",
    "x2, y2 = make_dataset(2, 3, collumn_names, account_banner='B', product_desc='Y')\n",
    "# create on more that will not have sub_model and will predict 0\n",
    "x3, y3 = make_dataset(3, 1, collumn_names, account_banner='C', product_desc='Z')\n",
    "\n",
    "# combine into one dataset\n",
    "total_x = pd.concat([x1, x2, x3], axis=0, ignore_index=True).reset_index(drop=True)\n",
    "total_y = pd.concat([y1, y2, y3], axis=0, ignore_index=True).reset_index(drop=True)\n",
    "# Split into train and test\n",
    "train_index, test_index = train_test_split(total_x.index, random_state=5)\n",
    "train_x, train_y = total_x.loc[train_index, :], total_y.loc[train_index]\n",
    "test_x, test_y = total_x.loc[test_index, :], total_y.loc[test_index]\n",
    "\n",
    "# create dictionary \"predicted_market_volumes\" - \"lookup_dict\"\n",
    "lookup_dict = make_dict()"
   ]
  },
  {
   "cell_type": "code",
   "execution_count": 4,
   "metadata": {},
   "outputs": [
    {
     "data": {
      "text/html": [
       "<div>\n",
       "<style scoped>\n",
       "    .dataframe tbody tr th:only-of-type {\n",
       "        vertical-align: middle;\n",
       "    }\n",
       "\n",
       "    .dataframe tbody tr th {\n",
       "        vertical-align: top;\n",
       "    }\n",
       "\n",
       "    .dataframe thead th {\n",
       "        text-align: right;\n",
       "    }\n",
       "</style>\n",
       "<table border=\"1\" class=\"dataframe\">\n",
       "  <thead>\n",
       "    <tr style=\"text-align: right;\">\n",
       "      <th></th>\n",
       "      <th>promoted_price</th>\n",
       "      <th>consumer_length</th>\n",
       "      <th>yearweek</th>\n",
       "      <th>original_product_dimension_44</th>\n",
       "      <th>product_volume_per_sku</th>\n",
       "      <th>account_banner</th>\n",
       "      <th>product_desc</th>\n",
       "    </tr>\n",
       "  </thead>\n",
       "  <tbody>\n",
       "    <tr>\n",
       "      <th>2528</th>\n",
       "      <td>1.240198</td>\n",
       "      <td>-0.588810</td>\n",
       "      <td>46</td>\n",
       "      <td>0</td>\n",
       "      <td>-0.258654</td>\n",
       "      <td>C</td>\n",
       "      <td>Z</td>\n",
       "    </tr>\n",
       "    <tr>\n",
       "      <th>2828</th>\n",
       "      <td>-1.721130</td>\n",
       "      <td>-0.633242</td>\n",
       "      <td>18</td>\n",
       "      <td>1</td>\n",
       "      <td>-0.251092</td>\n",
       "      <td>C</td>\n",
       "      <td>Z</td>\n",
       "    </tr>\n",
       "    <tr>\n",
       "      <th>2137</th>\n",
       "      <td>-2.306269</td>\n",
       "      <td>1.947770</td>\n",
       "      <td>33</td>\n",
       "      <td>0</td>\n",
       "      <td>0.895523</td>\n",
       "      <td>C</td>\n",
       "      <td>Z</td>\n",
       "    </tr>\n",
       "    <tr>\n",
       "      <th>2637</th>\n",
       "      <td>-0.303963</td>\n",
       "      <td>-0.400043</td>\n",
       "      <td>50</td>\n",
       "      <td>0</td>\n",
       "      <td>-0.559406</td>\n",
       "      <td>C</td>\n",
       "      <td>Z</td>\n",
       "    </tr>\n",
       "    <tr>\n",
       "      <th>135</th>\n",
       "      <td>1.529248</td>\n",
       "      <td>0.686483</td>\n",
       "      <td>26</td>\n",
       "      <td>0</td>\n",
       "      <td>-0.081570</td>\n",
       "      <td>A</td>\n",
       "      <td>X</td>\n",
       "    </tr>\n",
       "    <tr>\n",
       "      <th>...</th>\n",
       "      <td>...</td>\n",
       "      <td>...</td>\n",
       "      <td>...</td>\n",
       "      <td>...</td>\n",
       "      <td>...</td>\n",
       "      <td>...</td>\n",
       "      <td>...</td>\n",
       "    </tr>\n",
       "    <tr>\n",
       "      <th>2121</th>\n",
       "      <td>-0.504628</td>\n",
       "      <td>0.043220</td>\n",
       "      <td>43</td>\n",
       "      <td>1</td>\n",
       "      <td>-1.403318</td>\n",
       "      <td>C</td>\n",
       "      <td>Z</td>\n",
       "    </tr>\n",
       "    <tr>\n",
       "      <th>1424</th>\n",
       "      <td>-0.722067</td>\n",
       "      <td>0.466792</td>\n",
       "      <td>25</td>\n",
       "      <td>1</td>\n",
       "      <td>-3.326870</td>\n",
       "      <td>B</td>\n",
       "      <td>Y</td>\n",
       "    </tr>\n",
       "    <tr>\n",
       "      <th>1725</th>\n",
       "      <td>-0.389445</td>\n",
       "      <td>-0.658218</td>\n",
       "      <td>48</td>\n",
       "      <td>1</td>\n",
       "      <td>1.398478</td>\n",
       "      <td>B</td>\n",
       "      <td>Y</td>\n",
       "    </tr>\n",
       "    <tr>\n",
       "      <th>2254</th>\n",
       "      <td>0.350929</td>\n",
       "      <td>-0.856347</td>\n",
       "      <td>53</td>\n",
       "      <td>0</td>\n",
       "      <td>-0.523437</td>\n",
       "      <td>C</td>\n",
       "      <td>Z</td>\n",
       "    </tr>\n",
       "    <tr>\n",
       "      <th>2915</th>\n",
       "      <td>-1.847872</td>\n",
       "      <td>0.576796</td>\n",
       "      <td>25</td>\n",
       "      <td>1</td>\n",
       "      <td>-2.980150</td>\n",
       "      <td>C</td>\n",
       "      <td>Z</td>\n",
       "    </tr>\n",
       "  </tbody>\n",
       "</table>\n",
       "<p>2250 rows × 7 columns</p>\n",
       "</div>"
      ],
      "text/plain": [
       "      promoted_price  consumer_length  yearweek  \\\n",
       "2528        1.240198        -0.588810        46   \n",
       "2828       -1.721130        -0.633242        18   \n",
       "2137       -2.306269         1.947770        33   \n",
       "2637       -0.303963        -0.400043        50   \n",
       "135         1.529248         0.686483        26   \n",
       "...              ...              ...       ...   \n",
       "2121       -0.504628         0.043220        43   \n",
       "1424       -0.722067         0.466792        25   \n",
       "1725       -0.389445        -0.658218        48   \n",
       "2254        0.350929        -0.856347        53   \n",
       "2915       -1.847872         0.576796        25   \n",
       "\n",
       "      original_product_dimension_44  product_volume_per_sku account_banner  \\\n",
       "2528                              0               -0.258654              C   \n",
       "2828                              1               -0.251092              C   \n",
       "2137                              0                0.895523              C   \n",
       "2637                              0               -0.559406              C   \n",
       "135                               0               -0.081570              A   \n",
       "...                             ...                     ...            ...   \n",
       "2121                              1               -1.403318              C   \n",
       "1424                              1               -3.326870              B   \n",
       "1725                              1                1.398478              B   \n",
       "2254                              0               -0.523437              C   \n",
       "2915                              1               -2.980150              C   \n",
       "\n",
       "     product_desc  \n",
       "2528            Z  \n",
       "2828            Z  \n",
       "2137            Z  \n",
       "2637            Z  \n",
       "135             X  \n",
       "...           ...  \n",
       "2121            Z  \n",
       "1424            Y  \n",
       "1725            Y  \n",
       "2254            Z  \n",
       "2915            Z  \n",
       "\n",
       "[2250 rows x 7 columns]"
      ]
     },
     "execution_count": 4,
     "metadata": {},
     "output_type": "execute_result"
    }
   ],
   "source": [
    "train_x"
   ]
  },
  {
   "cell_type": "code",
   "execution_count": 5,
   "metadata": {
    "pycharm": {
     "name": "#%%\n"
    },
    "scrolled": false
   },
   "outputs": [
    {
     "data": {
      "text/plain": [
       "{(1, 0): 0.6663326653306614,\n",
       " (2, 0): -2.0691382765531063,\n",
       " (3, 0): -0.9168336673346693,\n",
       " (4, 0): -1.8386773547094188,\n",
       " (5, 0): 0.4458917835671343,\n",
       " (6, 0): -0.9869739478957917,\n",
       " (7, 0): 2.409819639278557,\n",
       " (8, 0): 0.7965931863727453,\n",
       " (9, 0): 0.8967935871743484,\n",
       " (10, 0): -1.1472945891783568,\n",
       " (11, 0): -1.4579158316633267,\n",
       " (12, 0): -0.3356713426853708,\n",
       " (13, 0): 1.227454909819639,\n",
       " (14, 0): 2.4398797595190382,\n",
       " (15, 0): -0.015030060120240663,\n",
       " (16, 0): -2.009018036072144,\n",
       " (17, 0): -0.746492985971944,\n",
       " (18, 0): -2.0691382765531063,\n",
       " (19, 0): -1.3276553106212425,\n",
       " (20, 0): -1.3376753507014028,\n",
       " (21, 0): 1.1573146292585168,\n",
       " (22, 0): -1.3176352705410823,\n",
       " (23, 0): -1.1472945891783568,\n",
       " (24, 0): 1.0671342685370742,\n",
       " (25, 0): -2.3597194388777556,\n",
       " (26, 0): 1.8787575150300597,\n",
       " (27, 0): 0.39579158316633256,\n",
       " (28, 0): 1.3677354709418834,\n",
       " (29, 0): -1.6683366733466936,\n",
       " (30, 0): 0.7765531062124249,\n",
       " (31, 0): 0.6663326653306614,\n",
       " (32, 0): 0.405811623246493,\n",
       " (33, 0): 1.9789579158316633,\n",
       " (34, 0): 2.0490981963927855,\n",
       " (35, 0): -1.9188376753507015,\n",
       " (36, 0): -0.5360721442885772,\n",
       " (37, 0): 1.1573146292585168,\n",
       " (38, 0): -2.299599198396794,\n",
       " (39, 0): 1.4979959919839678,\n",
       " (40, 0): 0.06513026052104198,\n",
       " (41, 0): 1.0871743486973946,\n",
       " (42, 0): -1.1272545090180361,\n",
       " (43, 0): 2.0290581162324646,\n",
       " (44, 0): -1.3977955911823647,\n",
       " (45, 0): 1.1372745490981964,\n",
       " (46, 0): -1.9589178356713428,\n",
       " (47, 0): 0.39579158316633256,\n",
       " (48, 0): 1.0270541082164328,\n",
       " (49, 0): 1.8987975951903806,\n",
       " (50, 0): 1.447895791583166,\n",
       " (51, 0): 0.35571142284569124,\n",
       " (52, 0): -2.299599198396794,\n",
       " (53, 0): -0.5861723446893787}"
      ]
     },
     "execution_count": 5,
     "metadata": {},
     "output_type": "execute_result"
    }
   ],
   "source": [
    "lookup_dict"
   ]
  },
  {
   "cell_type": "markdown",
   "metadata": {
    "pycharm": {
     "name": "#%% md\n"
    }
   },
   "source": [
    "# Create pipeline"
   ]
  },
  {
   "cell_type": "code",
   "execution_count": 6,
   "metadata": {
    "pycharm": {
     "name": "#%%\n"
    }
   },
   "outputs": [],
   "source": [
    "from sklearn.pipeline import make_pipeline\n",
    "from sklearn.preprocessing import PolynomialFeatures\n",
    "\n",
    "\n",
    "subset_cols = ('account_banner', 'product_desc')\n",
    "sub_models = {\n",
    "    ('A', 'X'): LinearRegression(),\n",
    "    ('B', 'Y'): DecisionTreeRegressor(),\n",
    "}\n",
    "\n",
    "\n",
    "pipeline = Pipeline([  \n",
    "  ('transform', FeatureSubsetTransform(group_cols=subset_cols, transformer=PolynomialFeatures(2))),\n",
    "  ('estimate', FeatureSubsetModel(lookup_dict=lookup_dict, group_cols=subset_cols, sub_models=sub_models))\n",
    "])\n"
   ]
  },
  {
   "cell_type": "markdown",
   "metadata": {
    "pycharm": {
     "name": "#%% md\n"
    }
   },
   "source": [
    "# Create VF Model Wrapper and Save pipeline"
   ]
  },
  {
   "cell_type": "code",
   "execution_count": 7,
   "metadata": {
    "pycharm": {
     "name": "#%%\n"
    }
   },
   "outputs": [
    {
     "name": "stderr",
     "output_type": "stream",
     "text": [
      "/home/ctselas/anaconda3/lib/python3.7/site-packages/sklearn/dummy.py:132: FutureWarning: The default value of strategy will change from stratified to prior in 0.24.\n",
      "  \"stratified to prior in 0.24.\", FutureWarning)\n"
     ]
    }
   ],
   "source": [
    "# Note: must use one_hot_encode=False to prevent one-hot encoding of categorical features in input data\n",
    "model_wrapper = PredictionModel(\"my_test_model\", path='/tmp', one_hot_encode=False)\n",
    "\n",
    "model_wrapper.model = pipeline\n",
    "# save feature names (no strictly since all the preprocessing is made being made in the pipeline)\n",
    "model_wrapper.features = {\n",
    "    # Grouping features\n",
    "    'account_banner': [],\n",
    "    'product_desc': [],\n",
    "    # other feaures\n",
    "    'promoted_price': [],\n",
    "    'consumer_length': [],\n",
    "    'yearweek': [],\n",
    "    'original_product_dimension_44': [],\n",
    "    'product_volume_per_sku': [],\n",
    "}\n",
    "model_wrapper.target = {'target': []}\n",
    "model_wrapper.ordered_column_list = sorted(model_wrapper.features.keys())\n",
    "\n",
    "model_wrapper.model.fit(train_x, train_y)\n",
    "\n",
    "model_wrapper.save()"
   ]
  },
  {
   "cell_type": "markdown",
   "metadata": {
    "pycharm": {
     "name": "#%% md\n"
    }
   },
   "source": [
    "# Load Pre-Saved Model "
   ]
  },
  {
   "cell_type": "code",
   "execution_count": 8,
   "metadata": {
    "pycharm": {
     "name": "#%%\n"
    }
   },
   "outputs": [
    {
     "data": {
      "text/plain": [
       "Pipeline(memory=None,\n",
       "         steps=[('transform',\n",
       "                 FeatureSubsetTransform(group_cols=('account_banner',\n",
       "                                                    'product_desc'),\n",
       "                                        transformer=PolynomialFeatures(degree=2,\n",
       "                                                                       include_bias=True,\n",
       "                                                                       interaction_only=False,\n",
       "                                                                       order='C'))),\n",
       "                ('estimate',\n",
       "                 FeatureSubsetModel(group_cols=('account_banner',\n",
       "                                                'product_desc'),\n",
       "                                    lookup_dict={(1, 0): 0.6663326653306614,\n",
       "                                                 (2, 0): -2.0691382765531063,\n",
       "                                                 (3, 0): -...\n",
       "                                                ('B', 'Y'): DecisionTreeRegressor(ccp_alpha=0.0,\n",
       "                                                                                  criterion='mse',\n",
       "                                                                                  max_depth=None,\n",
       "                                                                                  max_features=None,\n",
       "                                                                                  max_leaf_nodes=None,\n",
       "                                                                                  min_impurity_decrease=0.0,\n",
       "                                                                                  min_impurity_split=None,\n",
       "                                                                                  min_samples_leaf=1,\n",
       "                                                                                  min_samples_split=2,\n",
       "                                                                                  min_weight_fraction_leaf=0.0,\n",
       "                                                                                  presort='deprecated',\n",
       "                                                                                  random_state=None,\n",
       "                                                                                  splitter='best'),\n",
       "                                                ('C', 'Z'): DummyClassifier(constant=0,\n",
       "                                                                            random_state=None,\n",
       "                                                                            strategy='warn')}))],\n",
       "         verbose=False)"
      ]
     },
     "execution_count": 8,
     "metadata": {},
     "output_type": "execute_result"
    }
   ],
   "source": [
    "# Don't specify one_hot_encode here because it will be looked up from the pickle file\n",
    "saved_model = PredictionModel('my_test_model', path='/tmp')\n",
    "saved_model.model"
   ]
  },
  {
   "cell_type": "markdown",
   "metadata": {
    "pycharm": {
     "name": "#%% md\n"
    }
   },
   "source": [
    "# Test the results"
   ]
  },
  {
   "cell_type": "code",
   "execution_count": 9,
   "metadata": {
    "pycharm": {
     "name": "#%%\n"
    }
   },
   "outputs": [],
   "source": [
    "# test for the first group if the pipeline performs what we would like to\n",
    "groups = train_x.groupby(by=list(subset_cols))\n",
    "_, train_x = list(groups)[0]\n",
    "\n",
    "groups = test_x.groupby(by=list(subset_cols))\n",
    "_, test_x = list(groups)[0]\n",
    "\n",
    "train_y = train_y.loc[train_x.index]\n",
    "test_y = test_y.loc[test_x.index]"
   ]
  },
  {
   "cell_type": "code",
   "execution_count": 10,
   "metadata": {},
   "outputs": [],
   "source": [
    "# predict with pipeline\n",
    "pipeline_predicted = saved_model.model.predict(test_x)"
   ]
  },
  {
   "cell_type": "code",
   "execution_count": 11,
   "metadata": {
    "pycharm": {
     "name": "#%%\n"
    }
   },
   "outputs": [],
   "source": [
    "# drop the columns that declare the group since we use only one group for the test\n",
    "test_x.drop(list(subset_cols), axis=1, inplace=True)\n",
    "train_x.drop(list(subset_cols), axis=1, inplace=True)"
   ]
  },
  {
   "cell_type": "code",
   "execution_count": 12,
   "metadata": {},
   "outputs": [],
   "source": [
    "# transform price collumn\n",
    "transformer = PolynomialFeatures(2)\n",
    "transformer.fit(train_x[['promoted_price']])\n",
    "\n",
    "def transform_data(data):\n",
    "    transformed_price = transformer.transform(data[['promoted_price']])\n",
    "    transformed_price = pd.DataFrame(data=transformed_price, index=data.index,\n",
    "                                         columns=transformer.get_feature_names(data.columns))\n",
    "    transformed_price.drop(['1', 'promoted_price'], axis=1, inplace=True)\n",
    "    transformed_x = pd.concat([data, transformed_price], axis=1)\n",
    "    return transformed_x\n",
    "train_transformed = transform_data(train_x)\n",
    "test_transformed = transform_data(test_x)\n",
    "\n",
    "price_collumns = [col for col in test_transformed if col.startswith('promoted_price')]"
   ]
  },
  {
   "cell_type": "code",
   "execution_count": 13,
   "metadata": {},
   "outputs": [],
   "source": [
    "# predict market share only using price related data\n",
    "model = LinearRegression().fit(train_transformed[price_collumns], train_y)\n",
    "\n",
    "predicted_market_share = model.predict(test_transformed[price_collumns])\n",
    "predicted_market_share = pd.Series(index=test_transformed.index, data=predicted_market_share)"
   ]
  },
  {
   "cell_type": "code",
   "execution_count": 14,
   "metadata": {
    "pycharm": {
     "name": "#%%\n"
    }
   },
   "outputs": [],
   "source": [
    "# predict output\n",
    "test_x['predicted_market_volume'] = [lookup_dict.get((week, pr), 0) \n",
    "                                        for week, pr in [*zip(test_x['yearweek'], test_x['original_product_dimension_44'])]]\n",
    "\n",
    "directly_predicted = predicted_market_share.mul(\n",
    "        test_x['predicted_market_volume']).mul(\n",
    "        test_x['consumer_length']).div(\n",
    "        test_x['product_volume_per_sku']).clip(lower=0)"
   ]
  },
  {
   "cell_type": "code",
   "execution_count": 15,
   "metadata": {
    "pycharm": {
     "name": "#%%\n"
    }
   },
   "outputs": [
    {
     "data": {
      "text/html": [
       "<div>\n",
       "<style scoped>\n",
       "    .dataframe tbody tr th:only-of-type {\n",
       "        vertical-align: middle;\n",
       "    }\n",
       "\n",
       "    .dataframe tbody tr th {\n",
       "        vertical-align: top;\n",
       "    }\n",
       "\n",
       "    .dataframe thead th {\n",
       "        text-align: right;\n",
       "    }\n",
       "</style>\n",
       "<table border=\"1\" class=\"dataframe\">\n",
       "  <thead>\n",
       "    <tr style=\"text-align: right;\">\n",
       "      <th></th>\n",
       "      <th>directly_predicted</th>\n",
       "      <th>pipeline_predicted</th>\n",
       "    </tr>\n",
       "  </thead>\n",
       "  <tbody>\n",
       "    <tr>\n",
       "      <th>602</th>\n",
       "      <td>0.000000</td>\n",
       "      <td>0.000000</td>\n",
       "    </tr>\n",
       "    <tr>\n",
       "      <th>347</th>\n",
       "      <td>0.000000</td>\n",
       "      <td>0.000000</td>\n",
       "    </tr>\n",
       "    <tr>\n",
       "      <th>194</th>\n",
       "      <td>0.008533</td>\n",
       "      <td>0.008533</td>\n",
       "    </tr>\n",
       "    <tr>\n",
       "      <th>791</th>\n",
       "      <td>-0.000000</td>\n",
       "      <td>-0.000000</td>\n",
       "    </tr>\n",
       "    <tr>\n",
       "      <th>795</th>\n",
       "      <td>-0.000000</td>\n",
       "      <td>-0.000000</td>\n",
       "    </tr>\n",
       "    <tr>\n",
       "      <th>...</th>\n",
       "      <td>...</td>\n",
       "      <td>...</td>\n",
       "    </tr>\n",
       "    <tr>\n",
       "      <th>444</th>\n",
       "      <td>0.000000</td>\n",
       "      <td>0.000000</td>\n",
       "    </tr>\n",
       "    <tr>\n",
       "      <th>280</th>\n",
       "      <td>22.812515</td>\n",
       "      <td>22.812515</td>\n",
       "    </tr>\n",
       "    <tr>\n",
       "      <th>342</th>\n",
       "      <td>0.000000</td>\n",
       "      <td>0.000000</td>\n",
       "    </tr>\n",
       "    <tr>\n",
       "      <th>601</th>\n",
       "      <td>-0.000000</td>\n",
       "      <td>-0.000000</td>\n",
       "    </tr>\n",
       "    <tr>\n",
       "      <th>680</th>\n",
       "      <td>0.000000</td>\n",
       "      <td>0.000000</td>\n",
       "    </tr>\n",
       "  </tbody>\n",
       "</table>\n",
       "<p>251 rows × 2 columns</p>\n",
       "</div>"
      ],
      "text/plain": [
       "     directly_predicted  pipeline_predicted\n",
       "602            0.000000            0.000000\n",
       "347            0.000000            0.000000\n",
       "194            0.008533            0.008533\n",
       "791           -0.000000           -0.000000\n",
       "795           -0.000000           -0.000000\n",
       "..                  ...                 ...\n",
       "444            0.000000            0.000000\n",
       "280           22.812515           22.812515\n",
       "342            0.000000            0.000000\n",
       "601           -0.000000           -0.000000\n",
       "680            0.000000            0.000000\n",
       "\n",
       "[251 rows x 2 columns]"
      ]
     },
     "execution_count": 15,
     "metadata": {},
     "output_type": "execute_result"
    }
   ],
   "source": [
    "pd.DataFrame({'directly_predicted': directly_predicted, 'pipeline_predicted': pipeline_predicted})"
   ]
  }
 ],
 "metadata": {
  "kernelspec": {
   "display_name": "Python 3",
   "language": "python",
   "name": "python3"
  },
  "language_info": {
   "codemirror_mode": {
    "name": "ipython",
    "version": 3
   },
   "file_extension": ".py",
   "mimetype": "text/x-python",
   "name": "python",
   "nbconvert_exporter": "python",
   "pygments_lexer": "ipython3",
   "version": "3.6.10"
  },
  "pycharm": {
   "stem_cell": {
    "cell_type": "raw",
    "source": [],
    "metadata": {
     "collapsed": false
    }
   }
  }
 },
 "nbformat": 4,
 "nbformat_minor": 2
}