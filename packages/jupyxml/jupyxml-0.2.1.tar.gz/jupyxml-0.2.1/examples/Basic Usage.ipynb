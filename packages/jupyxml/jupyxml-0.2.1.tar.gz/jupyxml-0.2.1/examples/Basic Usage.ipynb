{
 "cells": [
  {
   "cell_type": "code",
   "execution_count": 1,
   "metadata": {
    "scrolled": true
   },
   "outputs": [
    {
     "name": "stdout",
     "output_type": "stream",
     "text": [
      "running sdist\n",
      "running egg_info\n",
      "writing src/jupyxml.egg-info/PKG-INFO\n",
      "writing dependency_links to src/jupyxml.egg-info/dependency_links.txt\n",
      "writing requirements to src/jupyxml.egg-info/requires.txt\n",
      "writing top-level names to src/jupyxml.egg-info/top_level.txt\n",
      "reading manifest template 'MANIFEST.in'\n",
      "writing manifest file 'src/jupyxml.egg-info/SOURCES.txt'\n",
      "running check\n",
      "creating jupyxml-0.1.0+g0e09ab4.dirty\n",
      "creating jupyxml-0.1.0+g0e09ab4.dirty/docs\n",
      "creating jupyxml-0.1.0+g0e09ab4.dirty/docs/_static\n",
      "creating jupyxml-0.1.0+g0e09ab4.dirty/examples\n",
      "creating jupyxml-0.1.0+g0e09ab4.dirty/src\n",
      "creating jupyxml-0.1.0+g0e09ab4.dirty/src/jupyxml\n",
      "creating jupyxml-0.1.0+g0e09ab4.dirty/src/jupyxml.egg-info\n",
      "creating jupyxml-0.1.0+g0e09ab4.dirty/src/jupyxml/styles\n",
      "creating jupyxml-0.1.0+g0e09ab4.dirty/tests\n",
      "copying files to jupyxml-0.1.0+g0e09ab4.dirty...\n",
      "copying .gitignore -> jupyxml-0.1.0+g0e09ab4.dirty\n",
      "copying AUTHORS.rst -> jupyxml-0.1.0+g0e09ab4.dirty\n",
      "copying CHANGELOG.rst -> jupyxml-0.1.0+g0e09ab4.dirty\n",
      "copying LICENSE.txt -> jupyxml-0.1.0+g0e09ab4.dirty\n",
      "copying MANIFEST.in -> jupyxml-0.1.0+g0e09ab4.dirty\n",
      "copying README.rst -> jupyxml-0.1.0+g0e09ab4.dirty\n",
      "copying requirements.txt -> jupyxml-0.1.0+g0e09ab4.dirty\n",
      "copying setup.cfg -> jupyxml-0.1.0+g0e09ab4.dirty\n",
      "copying setup.py -> jupyxml-0.1.0+g0e09ab4.dirty\n",
      "copying docs/Makefile -> jupyxml-0.1.0+g0e09ab4.dirty/docs\n",
      "copying docs/authors.rst -> jupyxml-0.1.0+g0e09ab4.dirty/docs\n",
      "copying docs/changelog.rst -> jupyxml-0.1.0+g0e09ab4.dirty/docs\n",
      "copying docs/conf.py -> jupyxml-0.1.0+g0e09ab4.dirty/docs\n",
      "copying docs/index.rst -> jupyxml-0.1.0+g0e09ab4.dirty/docs\n",
      "copying docs/license.rst -> jupyxml-0.1.0+g0e09ab4.dirty/docs\n",
      "copying docs/_static/.gitignore -> jupyxml-0.1.0+g0e09ab4.dirty/docs/_static\n",
      "copying examples/Basic Usage.ipynb -> jupyxml-0.1.0+g0e09ab4.dirty/examples\n",
      "copying src/jupyxml/__init__.py -> jupyxml-0.1.0+g0e09ab4.dirty/src/jupyxml\n",
      "copying src/jupyxml/accordian_creator.py -> jupyxml-0.1.0+g0e09ab4.dirty/src/jupyxml\n",
      "copying src/jupyxml/visualiser.py -> jupyxml-0.1.0+g0e09ab4.dirty/src/jupyxml\n",
      "copying src/jupyxml.egg-info/PKG-INFO -> jupyxml-0.1.0+g0e09ab4.dirty/src/jupyxml.egg-info\n",
      "copying src/jupyxml.egg-info/SOURCES.txt -> jupyxml-0.1.0+g0e09ab4.dirty/src/jupyxml.egg-info\n",
      "copying src/jupyxml.egg-info/dependency_links.txt -> jupyxml-0.1.0+g0e09ab4.dirty/src/jupyxml.egg-info\n",
      "copying src/jupyxml.egg-info/not-zip-safe -> jupyxml-0.1.0+g0e09ab4.dirty/src/jupyxml.egg-info\n",
      "copying src/jupyxml.egg-info/requires.txt -> jupyxml-0.1.0+g0e09ab4.dirty/src/jupyxml.egg-info\n",
      "copying src/jupyxml.egg-info/top_level.txt -> jupyxml-0.1.0+g0e09ab4.dirty/src/jupyxml.egg-info\n",
      "copying src/jupyxml/styles/__init__.py -> jupyxml-0.1.0+g0e09ab4.dirty/src/jupyxml/styles\n",
      "copying src/jupyxml/styles/jupyxml.css -> jupyxml-0.1.0+g0e09ab4.dirty/src/jupyxml/styles\n",
      "copying tests/conftest.py -> jupyxml-0.1.0+g0e09ab4.dirty/tests\n",
      "copying tests/test_basic_parse_string.py -> jupyxml-0.1.0+g0e09ab4.dirty/tests\n",
      "copying tests/test_skeleton.py -> jupyxml-0.1.0+g0e09ab4.dirty/tests\n",
      "Writing jupyxml-0.1.0+g0e09ab4.dirty/setup.cfg\n",
      "Creating tar archive\n",
      "removing 'jupyxml-0.1.0+g0e09ab4.dirty' (and everything under it)\n",
      "running install\n",
      "running bdist_egg\n",
      "running egg_info\n",
      "writing src/jupyxml.egg-info/PKG-INFO\n",
      "writing dependency_links to src/jupyxml.egg-info/dependency_links.txt\n",
      "writing requirements to src/jupyxml.egg-info/requires.txt\n",
      "writing top-level names to src/jupyxml.egg-info/top_level.txt\n",
      "reading manifest template 'MANIFEST.in'\n",
      "writing manifest file 'src/jupyxml.egg-info/SOURCES.txt'\n",
      "installing library code to build/bdist.linux-x86_64/egg\n",
      "running install_lib\n",
      "running build_py\n",
      "copying src/jupyxml/styles/jupyxml.css -> build/lib/jupyxml/styles\n",
      "creating build/bdist.linux-x86_64/egg\n",
      "creating build/bdist.linux-x86_64/egg/jupyxml\n",
      "creating build/bdist.linux-x86_64/egg/jupyxml/styles\n",
      "copying build/lib/jupyxml/styles/__init__.py -> build/bdist.linux-x86_64/egg/jupyxml/styles\n",
      "copying build/lib/jupyxml/styles/jupyxml.css -> build/bdist.linux-x86_64/egg/jupyxml/styles\n",
      "copying build/lib/jupyxml/__init__.py -> build/bdist.linux-x86_64/egg/jupyxml\n",
      "copying build/lib/jupyxml/visualiser.py -> build/bdist.linux-x86_64/egg/jupyxml\n",
      "copying build/lib/jupyxml/skeleton.py -> build/bdist.linux-x86_64/egg/jupyxml\n",
      "copying build/lib/jupyxml/accordian_creator.py -> build/bdist.linux-x86_64/egg/jupyxml\n",
      "byte-compiling build/bdist.linux-x86_64/egg/jupyxml/styles/__init__.py to __init__.cpython-37.pyc\n",
      "byte-compiling build/bdist.linux-x86_64/egg/jupyxml/__init__.py to __init__.cpython-37.pyc\n",
      "byte-compiling build/bdist.linux-x86_64/egg/jupyxml/visualiser.py to visualiser.cpython-37.pyc\n",
      "byte-compiling build/bdist.linux-x86_64/egg/jupyxml/skeleton.py to skeleton.cpython-37.pyc\n",
      "byte-compiling build/bdist.linux-x86_64/egg/jupyxml/accordian_creator.py to accordian_creator.cpython-37.pyc\n",
      "creating build/bdist.linux-x86_64/egg/EGG-INFO\n",
      "copying src/jupyxml.egg-info/PKG-INFO -> build/bdist.linux-x86_64/egg/EGG-INFO\n",
      "copying src/jupyxml.egg-info/SOURCES.txt -> build/bdist.linux-x86_64/egg/EGG-INFO\n",
      "copying src/jupyxml.egg-info/dependency_links.txt -> build/bdist.linux-x86_64/egg/EGG-INFO\n",
      "copying src/jupyxml.egg-info/not-zip-safe -> build/bdist.linux-x86_64/egg/EGG-INFO\n",
      "copying src/jupyxml.egg-info/requires.txt -> build/bdist.linux-x86_64/egg/EGG-INFO\n",
      "copying src/jupyxml.egg-info/top_level.txt -> build/bdist.linux-x86_64/egg/EGG-INFO\n",
      "creating 'dist/jupyxml-0.1.0+g0e09ab4.dirty-py3.7.egg' and adding 'build/bdist.linux-x86_64/egg' to it\n",
      "removing 'build/bdist.linux-x86_64/egg' (and everything under it)\n",
      "Processing jupyxml-0.1.0+g0e09ab4.dirty-py3.7.egg\n",
      "removing '/home/rob/anaconda3/lib/python3.7/site-packages/jupyxml-0.1.0+g0e09ab4.dirty-py3.7.egg' (and everything under it)\n",
      "creating /home/rob/anaconda3/lib/python3.7/site-packages/jupyxml-0.1.0+g0e09ab4.dirty-py3.7.egg\n",
      "Extracting jupyxml-0.1.0+g0e09ab4.dirty-py3.7.egg to /home/rob/anaconda3/lib/python3.7/site-packages\n",
      "jupyxml 0.1.0+g0e09ab4.dirty is already the active version in easy-install.pth\n",
      "\n",
      "Installed /home/rob/anaconda3/lib/python3.7/site-packages/jupyxml-0.1.0+g0e09ab4.dirty-py3.7.egg\n",
      "Processing dependencies for jupyxml==0.1.0+g0e09ab4.dirty\n",
      "Searching for lxml==4.5.0\n",
      "Best match: lxml 4.5.0\n",
      "Adding lxml 4.5.0 to easy-install.pth file\n",
      "\n",
      "Using /home/rob/anaconda3/lib/python3.7/site-packages\n",
      "Finished processing dependencies for jupyxml==0.1.0+g0e09ab4.dirty\n"
     ]
    }
   ],
   "source": [
    "%%bash\n",
    "cd ../\n",
    "python setup.py sdist\n",
    "python setup.py install"
   ]
  },
  {
   "cell_type": "code",
   "execution_count": 2,
   "metadata": {},
   "outputs": [],
   "source": [
    "import jupyxml"
   ]
  },
  {
   "cell_type": "code",
   "execution_count": 3,
   "metadata": {},
   "outputs": [],
   "source": [
    "from jupyxml import JupyXML"
   ]
  },
  {
   "cell_type": "code",
   "execution_count": 4,
   "metadata": {},
   "outputs": [
    {
     "name": "stdout",
     "output_type": "stream",
     "text": [
      "Loading from string\n"
     ]
    },
    {
     "data": {
      "text/html": [
       "\n",
       "            <style>\n",
       "                \n",
       "\n",
       ".card {\n",
       "    border: 1px solid black;\n",
       "    box-shadow: grey 2px 2px;\n",
       "    padding: 8pt;\n",
       "    margin: 4pt 4pt 4pt 8pt\n",
       "}\n",
       "\n",
       ".card-header{\n",
       "    font-size: 1.3em;\n",
       "}\n",
       "\n",
       ".card-body{\n",
       "    padding-left: 8pt;\n",
       "}\n",
       "\n",
       ".leaf_node{\n",
       "    border: 1px solid grey;\n",
       "    padding: 8pt;\n",
       "}\n",
       "            </style>\n",
       "            \n",
       "<div class=\"card\">\n",
       "    <div class=\"card-header\" id=\"heading_0\">\n",
       "        <button class=\"btn btn-link\" data-toggle=\"collapse\" data-target=\"#collapse_0\" \n",
       "            aria-expanded=\"true\" aria-controls=\"collapse_0\">\n",
       "          <h3>\n",
       "              Item: b\n",
       "          </h3>\n",
       "        </button>\n",
       "    </div>\n",
       "    \n",
       "    <div id=\"collapse_0\" class=\"collapse False\" aria-labelledby=\"heading_0\" >\n",
       "      <div class=\"card-body\">\n",
       "        Text: Hello world, \n",
       "<div class=\"leaf_node\">\n",
       "    <h3>Item: i</h3>\n",
       "    Text: I'm here to save you\n",
       "</div>\n",
       "\n",
       "      </div>\n",
       "    </div>\n",
       "</div>\n",
       "\n",
       "        "
      ],
      "text/plain": [
       "<jupyxml.visualiser.JupyXML at 0x7f66080338d0>"
      ]
     },
     "execution_count": 4,
     "metadata": {},
     "output_type": "execute_result"
    }
   ],
   "source": [
    "JupyXML(\"<b>Hello world, <i>I'm here to save you</i></b>\")"
   ]
  },
  {
   "cell_type": "code",
   "execution_count": null,
   "metadata": {},
   "outputs": [],
   "source": []
  }
 ],
 "metadata": {
  "kernelspec": {
   "display_name": "Python 3",
   "language": "python",
   "name": "python3"
  },
  "language_info": {
   "codemirror_mode": {
    "name": "ipython",
    "version": 3
   },
   "file_extension": ".py",
   "mimetype": "text/x-python",
   "name": "python",
   "nbconvert_exporter": "python",
   "pygments_lexer": "ipython3",
   "version": "3.7.6"
  }
 },
 "nbformat": 4,
 "nbformat_minor": 4
}
