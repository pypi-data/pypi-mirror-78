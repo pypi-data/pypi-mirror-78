{
 "cells": [
  {
   "cell_type": "code",
   "execution_count": 1,
   "metadata": {},
   "outputs": [],
   "source": [
    "import stopwordsiso"
   ]
  },
  {
   "cell_type": "code",
   "execution_count": 2,
   "metadata": {},
   "outputs": [
    {
     "output_type": "execute_result",
     "data": {
      "text/plain": "True"
     },
     "metadata": {},
     "execution_count": 2
    }
   ],
   "source": [
    "stopwordsiso.has_lang(\"th\")  # check if there is a stopwords list for the language"
   ]
  },
  {
   "cell_type": "code",
   "execution_count": 3,
   "metadata": {},
   "outputs": [
    {
     "output_type": "execute_result",
     "data": {
      "text/plain": "{'af',\n 'ar',\n 'bg',\n 'bn',\n 'br',\n 'ca',\n 'cs',\n 'da',\n 'de',\n 'el',\n 'en',\n 'eo',\n 'es',\n 'et',\n 'eu',\n 'fa',\n 'fi',\n 'fr',\n 'ga',\n 'gl',\n 'gu',\n 'ha',\n 'he',\n 'hi',\n 'hr',\n 'hu',\n 'hy',\n 'id',\n 'it',\n 'ja',\n 'ko',\n 'ku',\n 'la',\n 'lt',\n 'lv',\n 'mr',\n 'ms',\n 'nl',\n 'no',\n 'pl',\n 'pt',\n 'ro',\n 'ru',\n 'sk',\n 'sl',\n 'so',\n 'st',\n 'sv',\n 'sw',\n 'th',\n 'tl',\n 'tr',\n 'uk',\n 'ur',\n 'vi',\n 'yo',\n 'zh',\n 'zu'}"
     },
     "metadata": {},
     "execution_count": 3
    }
   ],
   "source": [
    "stopwordsiso.langs()  # return set of all the supported languages"
   ]
  },
  {
   "cell_type": "code",
   "execution_count": 4,
   "metadata": {},
   "outputs": [
    {
     "output_type": "execute_result",
     "data": {
      "text/plain": "['normally',\n 'thorough',\n 'down',\n 'ai',\n 'hundred',\n 'your',\n 'clear',\n 'ought',\n 'sv',\n 'forty']"
     },
     "metadata": {},
     "execution_count": 4
    }
   ],
   "source": [
    "from stopwordsiso import stopwords\n",
    "\n",
    "words = stopwords(\"en\")  # English stopwords\n",
    "\n",
    "list(words)[:10]  # print first 10 words"
   ]
  },
  {
   "cell_type": "code",
   "execution_count": 5,
   "metadata": {},
   "outputs": [
    {
     "output_type": "execute_result",
     "data": {
      "text/plain": "['นี้',\n 'gut',\n 'sie',\n 'ihn',\n 'fünfter',\n 'manche',\n 'wenig',\n 'こちら',\n 'ของ',\n 'drei']"
     },
     "metadata": {},
     "execution_count": 5
    }
   ],
   "source": [
    "words = stopwords([\"ja\", \"th\", \"de\"])  # Japanese, Thai, and German stopwords\n",
    "\n",
    "list(words)[:10]  # print first 10 words"
   ]
  },
  {
   "cell_type": "code",
   "execution_count": 6,
   "metadata": {},
   "outputs": [
    {
     "output_type": "execute_result",
     "data": {
      "text/plain": "set()"
     },
     "metadata": {},
     "execution_count": 6
    }
   ],
   "source": [
    "stopwords(\"xxx\")  # if the language is not supported, an empty set will be returned"
   ]
  },
  {
   "cell_type": "code",
   "execution_count": null,
   "metadata": {},
   "outputs": [],
   "source": []
  }
 ],
 "metadata": {
  "kernelspec": {
   "display_name": "Python 3",
   "language": "python",
   "name": "python3"
  },
  "language_info": {
   "codemirror_mode": {
    "name": "ipython",
    "version": 3
   },
   "file_extension": ".py",
   "mimetype": "text/x-python",
   "name": "python",
   "nbconvert_exporter": "python",
   "pygments_lexer": "ipython3",
   "version": "3.8.5-final"
  }
 },
 "nbformat": 4,
 "nbformat_minor": 2
}