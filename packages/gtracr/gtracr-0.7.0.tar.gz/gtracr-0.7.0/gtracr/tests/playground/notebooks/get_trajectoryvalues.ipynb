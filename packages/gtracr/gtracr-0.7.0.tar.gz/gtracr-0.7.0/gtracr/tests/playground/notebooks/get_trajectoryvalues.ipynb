{
 "cells": [
  {
   "cell_type": "code",
   "execution_count": 1,
   "metadata": {},
   "outputs": [],
   "source": [
    "# get the final values for the trajectory to use with the testers\n",
    "import os, sys\n",
    "import numpy as np\n",
    "import matplotlib.pyplot as plt\n",
    "\n",
    "sys.path.append(os.getcwd())\n",
    "sys.path.append(os.path.join(os.getcwd(), \"..\", \"..\"))\n",
    "sys.path.append(os.path.join(os.getcwd(), \"..\", \"..\", \"gtracr\"))\n",
    "# sys.path.append(os.path.join(os.getcwd(), \"gtracr\"))\n",
    "\n",
    "\n",
    "from gtracr.trajectory import Trajectory\n",
    "from gtracr.lib.trajectorypoint import TrajectoryPoint\n",
    "# from gtracr.utils import spherical_to_cartesian\n",
    "from gtracr.lib.constants import EARTH_RADIUS"
   ]
  },
  {
   "cell_type": "code",
   "execution_count": 2,
   "metadata": {},
   "outputs": [],
   "source": [
    "# in the form (plabel, zenith, azimuth, particle_altitude, latitude, longitude, detector_altitude, rigidity)\n",
    "initial_variable_list = [\n",
    "    (\"p+\", 90., 90., 100., 0., 0., 0., 30., None),  \n",
    "    (\"p+\", 120., 90., 100., 0., 0., -1., 30., None),\n",
    "    (\"p+\", 0., 25., 100., 50., 100., 0., 50., None),\n",
    "    (\"p+\", 90., 5., 100., 89., 20., 0., 20., None),\n",
    "    (\"p+\", 90., 5., 100., -90., 20., 0., 20., None),\n",
    "    (\"e-\", 90., 5., 100., 40., 200., 0., 20., None),\n",
    "    (\"p+\", 45., 265., 0., 40., 200., 0., 20., None),\n",
    "    (\"p+\", 45., 180., 10., 40., 200., 0., 20., None),\n",
    "    (\"p+\", 45., 0., 0., 89., 0., 0., 20., None),\n",
    "    (\"p+\", 45., 0., 0., 0., 180., 100., 20., None),\n",
    "    (\"p+\", 45., 0., 0., 0., 180., 100., 5., None),\n",
    "    (\"p+\", 45., 0., 0., 0., 180., 100., None, 10.),\n",
    "    (\"p+\", 9., 80., 0., 50., 260., 100., None, 50.)\n",
    "]"
   ]
  },
  {
   "cell_type": "code",
   "execution_count": 3,
   "metadata": {},
   "outputs": [],
   "source": [
    "dt = 1e-5\n",
    "max_time = 1."
   ]
  },
  {
   "cell_type": "code",
   "execution_count": 8,
   "metadata": {},
   "outputs": [],
   "source": [
    "initial_variable_list = [\n",
    "    (\"p+\", 90., 0., 100., 0., 0., 0., 50., None)\n",
    "]"
   ]
  },
  {
   "cell_type": "code",
   "execution_count": 9,
   "metadata": {},
   "outputs": [],
   "source": [
    "# dt_list = np.logspace(-9, -1, 10)\n",
    "# print(dt_list)\n",
    "# max_time = 1.\n",
    "dt = 1e-5\n",
    "# max_times = np.logspace(-2, 2, 10)\n",
    "# print(max_times)\n",
    "max_time=1"
   ]
  },
  {
   "cell_type": "code",
   "execution_count": 10,
   "metadata": {},
   "outputs": [],
   "source": [
    "dates = [1900., 1905.5, 2010., 2020., 2015., 2025., 1917.25, 1918., 2000., 1990.]"
   ]
  },
  {
   "cell_type": "code",
   "execution_count": 14,
   "metadata": {},
   "outputs": [
    {
     "name": "stdout",
     "output_type": "stream",
     "text": [
      "0.22074000000007998\n",
      "0.22074000000007998\n",
      "0.22074000000007998\n",
      "0.22074000000007998\n",
      "0.22074000000007998\n",
      "0.22074000000007998\n",
      "0.22074000000007998\n",
      "0.22074000000007998\n",
      "0.22074000000007998\n",
      "0.22074000000007998\n"
     ]
    }
   ],
   "source": [
    "for date in dates:\n",
    "#     print(date)\n",
    "    \n",
    "    (plabel, zenith, azimuth, palt, lat, lng, dalt, rig, en) =  (\"p+\", 90., 0., 100., 0., 0., 0., 50., None)\n",
    "\n",
    "    traj = Trajectory(\n",
    "        plabel=plabel,\n",
    "        zenith_angle = zenith,\n",
    "        azimuth_angle = azimuth,\n",
    "        particle_altitude = palt,\n",
    "        latitude = lat,\n",
    "        longitude = lng,\n",
    "        detector_altitude = dalt,\n",
    "        rigidity = rig,\n",
    "        energy = en,\n",
    "        bfield_type=\"igrf\",\n",
    "        date=date\n",
    "    )\n",
    "\n",
    "    traj.get_trajectory(dt = dt, max_time=max_time)\n",
    "\n",
    "    print(traj.final_time)"
   ]
  },
  {
   "cell_type": "code",
   "execution_count": 14,
   "metadata": {},
   "outputs": [
    {
     "name": "stdout",
     "output_type": "stream",
     "text": [
      "0.22074000000007998\n",
      "0.22074000000007998\n",
      "0.22074000000007998\n",
      "0.22074000000007998\n",
      "0.22074000000007998\n"
     ]
    },
    {
     "ename": "RuntimeError",
     "evalue": "[json.exception.type_error.302] type must be number, but is null",
     "output_type": "error",
     "traceback": [
      "\u001b[1;31m---------------------------------------------------------------------------\u001b[0m",
      "\u001b[1;31mRuntimeError\u001b[0m                              Traceback (most recent call last)",
      "\u001b[1;32m<ipython-input-14-063e600ddd5c>\u001b[0m in \u001b[0;36m<module>\u001b[1;34m\u001b[0m\n\u001b[0;32m     19\u001b[0m         )\n\u001b[0;32m     20\u001b[0m \u001b[1;33m\u001b[0m\u001b[0m\n\u001b[1;32m---> 21\u001b[1;33m         \u001b[0mtraj\u001b[0m\u001b[1;33m.\u001b[0m\u001b[0mget_trajectory\u001b[0m\u001b[1;33m(\u001b[0m\u001b[0mdt\u001b[0m \u001b[1;33m=\u001b[0m \u001b[0mdt\u001b[0m\u001b[1;33m,\u001b[0m \u001b[0mmax_time\u001b[0m\u001b[1;33m=\u001b[0m\u001b[0mmax_time\u001b[0m\u001b[1;33m)\u001b[0m\u001b[1;33m\u001b[0m\u001b[1;33m\u001b[0m\u001b[0m\n\u001b[0m\u001b[0;32m     22\u001b[0m \u001b[1;33m\u001b[0m\u001b[0m\n\u001b[0;32m     23\u001b[0m         \u001b[0mprint\u001b[0m\u001b[1;33m(\u001b[0m\u001b[0mtraj\u001b[0m\u001b[1;33m.\u001b[0m\u001b[0mfinal_time\u001b[0m\u001b[1;33m)\u001b[0m\u001b[1;33m\u001b[0m\u001b[1;33m\u001b[0m\u001b[0m\n",
      "\u001b[1;32mc:\\users\\voltk\\devel\\gtracr\\gtracr\\trajectory.py\u001b[0m in \u001b[0;36mget_trajectory\u001b[1;34m(self, dt, max_time, max_step, get_data, use_python, use_unvectorized)\u001b[0m\n\u001b[0;32m    192\u001b[0m             traj_tracer = TrajectoryTracer(self.particle.charge,\n\u001b[0;32m    193\u001b[0m                                            \u001b[0mself\u001b[0m\u001b[1;33m.\u001b[0m\u001b[0mparticle\u001b[0m\u001b[1;33m.\u001b[0m\u001b[0mmass\u001b[0m\u001b[1;33m,\u001b[0m\u001b[1;33m\u001b[0m\u001b[1;33m\u001b[0m\u001b[0m\n\u001b[1;32m--> 194\u001b[1;33m                                            \u001b[0mself\u001b[0m\u001b[1;33m.\u001b[0m\u001b[0mescape_altitude\u001b[0m\u001b[1;33m,\u001b[0m \u001b[0mdt\u001b[0m\u001b[1;33m,\u001b[0m \u001b[0mmax_step\u001b[0m\u001b[1;33m,\u001b[0m\u001b[1;33m\u001b[0m\u001b[1;33m\u001b[0m\u001b[0m\n\u001b[0m\u001b[0;32m    195\u001b[0m                                            self.bfield_type, self.igrf_params)\n\u001b[0;32m    196\u001b[0m \u001b[1;33m\u001b[0m\u001b[0m\n",
      "\u001b[1;31mRuntimeError\u001b[0m: [json.exception.type_error.302] type must be number, but is null"
     ]
    }
   ],
   "source": [
    "# for initial_variables in initial_variable_list:\n",
    "# #     for dt in dt_list:\n",
    "# #     for max_time in max_times:\n",
    "#     for date in dates:\n",
    "#         (plabel, zenith, azimuth, palt, lat, lng, dalt, rig, en) = initial_variables\n",
    "\n",
    "#         traj = Trajectory(\n",
    "#             plabel=plabel,\n",
    "#             zenith_angle = zenith,\n",
    "#             azimuth_angle = azimuth,\n",
    "#             particle_altitude = palt,\n",
    "#             latitude = lat,\n",
    "#             longitude = lng,\n",
    "#             detector_altitude = dalt,\n",
    "#             rigidity = rig,\n",
    "#             energy = en,\n",
    "#             bfield_type=\"igrf\",\n",
    "#             date=date\n",
    "#         )\n",
    "\n",
    "#         traj.get_trajectory(dt = dt, max_time=max_time)\n",
    "\n",
    "#         print(traj.final_time)\n",
    "#     print(traj.final_sixvector)\n",
    "#     print(traj.particle_escaped)\n",
    "#     print(np.floor(traj.final_time/dt))\n",
    "#     print(type(traj.final_sixvector))"
   ]
  },
  {
   "cell_type": "code",
   "execution_count": null,
   "metadata": {},
   "outputs": [],
   "source": []
  },
  {
   "cell_type": "code",
   "execution_count": null,
   "metadata": {},
   "outputs": [],
   "source": []
  }
 ],
 "metadata": {
  "kernelspec": {
   "display_name": "Python 3",
   "language": "python",
   "name": "python3"
  },
  "language_info": {
   "codemirror_mode": {
    "name": "ipython",
    "version": 3
   },
   "file_extension": ".py",
   "mimetype": "text/x-python",
   "name": "python",
   "nbconvert_exporter": "python",
   "pygments_lexer": "ipython3",
   "version": "3.7.3"
  }
 },
 "nbformat": 4,
 "nbformat_minor": 4
}
