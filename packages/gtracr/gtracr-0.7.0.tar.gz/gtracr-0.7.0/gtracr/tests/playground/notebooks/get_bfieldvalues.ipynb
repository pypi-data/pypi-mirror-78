{
 "cells": [
  {
   "cell_type": "code",
   "execution_count": 1,
   "metadata": {},
   "outputs": [],
   "source": [
    "import os\n",
    "import sys\n",
    "import numpy as np\n",
    "\n",
    "# import gtracr.lib.igrf_utils as iuf\n",
    "# from gtracr.lib.magnetic_field import MagneticField, IGRF13\n",
    "from gtracr.lib.constants import EARTH_RADIUS"
   ]
  },
  {
   "cell_type": "code",
   "execution_count": 2,
   "metadata": {},
   "outputs": [],
   "source": [
    "# import gauss coefficients from shc file\n",
    "CURRENT_YEAR = 2015\n",
    "\n",
    "LEAP_YEAR = False\n",
    "# check if we have a leap year or not\n",
    "if CURRENT_YEAR % 4 == 0:\n",
    "    LEAP_YEAR = True"
   ]
  },
  {
   "cell_type": "code",
   "execution_count": 3,
   "metadata": {},
   "outputs": [],
   "source": [
    "# r, theta, phi values of interest\n",
    "coord_list = [\n",
    "    (EARTH_RADIUS, np.pi / 2., np.pi),\n",
    "    (EARTH_RADIUS, 0.5, np.pi),\n",
    "    (2. * EARTH_RADIUS, np.pi / 2., np.pi),\n",
    "    (2. * EARTH_RADIUS, np.pi / 2., 2.*np.pi),\n",
    "    (10. * EARTH_RADIUS, 0., 2.*np.pi),\n",
    "    (10. * EARTH_RADIUS, 0., np.pi / 4.),\n",
    "    (10. * EARTH_RADIUS, 0., np.pi / 6.),\n",
    "    (2. * EARTH_RADIUS, np.pi / 6., np.pi),\n",
    "    (2.35 * EARTH_RADIUS, (4. *np.pi) / 6., np.pi),\n",
    "    (5. * EARTH_RADIUS, (4. *np.pi) / 6., (3. * np.pi) / 2.)\n",
    "]"
   ]
  },
  {
   "cell_type": "code",
   "execution_count": 4,
   "metadata": {},
   "outputs": [
    {
     "name": "stdout",
     "output_type": "stream",
     "text": [
      "2.94048e-05\n",
      "5.3501009058777e-05\n",
      "3.6756e-06\n",
      "3.6756e-06\n",
      "5.880960000000001e-08\n",
      "5.880960000000001e-08\n",
      "5.880960000000001e-08\n",
      "6.6262821340477195e-06\n",
      "2.997323835820273e-06\n",
      "3.111911526063683e-07\n"
     ]
    }
   ],
   "source": [
    "# python dipole field \n",
    "from gtracr.lib.magnetic_field import MagneticField, IGRF13\n",
    "pydip = MagneticField()\n",
    "for coord in coord_list:\n",
    "    bf_values = pydip.values(*coord)\n",
    "    bmag = np.linalg.norm(np.array(bf_values))\n",
    "    print(bmag)"
   ]
  },
  {
   "cell_type": "code",
   "execution_count": 5,
   "metadata": {},
   "outputs": [
    {
     "name": "stdout",
     "output_type": "stream",
     "text": [
      "5.913755366904459e-05\n",
      "5.9118115425034316e-05\n",
      "7.3917929316092776e-06\n",
      "7.39041733659261e-06\n",
      "5.90976751976999e-08\n",
      "5.90976751976999e-08\n",
      "5.90976751976999e-08\n",
      "7.389422687896002e-06\n",
      "4.556819761739493e-06\n",
      "4.7303278534088914e-07\n"
     ]
    },
    {
     "name": "stderr",
     "output_type": "stream",
     "text": [
      "c:\\users\\voltk\\devel\\gtracr\\gtracr\\lib\\igrf_utils.py:420: UserWarning: The geographic poles are included.\n",
      "  warnings.warn('The geographic poles are included.')\n"
     ]
    }
   ],
   "source": [
    "# python IGRF field\n",
    "pyigrf = IGRF13(CURRENT_YEAR)\n",
    "for coord in coord_list:\n",
    "    bf_values = pyigrf.values(*coord)\n",
    "    bmag = np.linalg.norm(np.array(bf_values))\n",
    "    print(bmag)"
   ]
  },
  {
   "cell_type": "code",
   "execution_count": 6,
   "metadata": {},
   "outputs": [
    {
     "name": "stdout",
     "output_type": "stream",
     "text": [
      "2.94048e-05\n",
      "5.3501009058777e-05\n",
      "3.6756e-06\n",
      "3.6756e-06\n",
      "5.880960000000001e-08\n",
      "5.880960000000001e-08\n",
      "5.880960000000001e-08\n",
      "6.6262821340477195e-06\n",
      "2.997323835820273e-06\n",
      "3.111911526063683e-07\n"
     ]
    }
   ],
   "source": [
    "# C++ dipole field\n",
    "from gtracr.lib._libgtracr import MagneticField, IGRF\n",
    "dip = MagneticField()\n",
    "for coord in coord_list:\n",
    "    bf_values = dip.values(*coord)\n",
    "    bmag = np.linalg.norm(np.array(bf_values))\n",
    "    print(bmag)"
   ]
  },
  {
   "cell_type": "code",
   "execution_count": 12,
   "metadata": {},
   "outputs": [
    {
     "name": "stdout",
     "output_type": "stream",
     "text": [
      "18541.772777087477\n",
      "2104.4220462258645\n",
      "1681.8458880881142\n",
      "919.3370935769925\n",
      "5.41646351617013\n",
      "5.538620048328442\n",
      "5.4857208582223365\n",
      "494.4790949331885\n",
      "996.3453533330069\n",
      "64.65244708389457\n"
     ]
    }
   ],
   "source": [
    "# C++ igrf field\n",
    "DATA_DIR = os.path.join(os.getcwd(), \"..\", \"..\", \"..\", \"data\")\n",
    "DATA_PATH = os.path.join(DATA_DIR, \"igrf13.json\")\n",
    "# print(DATA_PATH)\n",
    "# from gtracr.lib._libgtracr import IGRF\n",
    "igrf = IGRF(DATA_PATH, CURRENT_YEAR)\n",
    "for coord in coord_list:\n",
    "    bf_values = igrf.values(*coord)\n",
    "    bmag = np.linalg.norm(np.array(bf_values))\n",
    "    print(bmag)"
   ]
  },
  {
   "cell_type": "code",
   "execution_count": null,
   "metadata": {},
   "outputs": [],
   "source": []
  },
  {
   "cell_type": "code",
   "execution_count": null,
   "metadata": {},
   "outputs": [],
   "source": []
  }
 ],
 "metadata": {
  "kernelspec": {
   "display_name": "Python 3",
   "language": "python",
   "name": "python3"
  },
  "language_info": {
   "codemirror_mode": {
    "name": "ipython",
    "version": 3
   },
   "file_extension": ".py",
   "mimetype": "text/x-python",
   "name": "python",
   "nbconvert_exporter": "python",
   "pygments_lexer": "ipython3",
   "version": "3.7.3"
  }
 },
 "nbformat": 4,
 "nbformat_minor": 4
}
