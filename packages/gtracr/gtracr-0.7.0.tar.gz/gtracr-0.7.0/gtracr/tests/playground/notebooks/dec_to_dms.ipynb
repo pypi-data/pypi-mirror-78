{
 "cells": [
  {
   "cell_type": "code",
   "execution_count": 2,
   "metadata": {},
   "outputs": [],
   "source": [
    "# get the final values for the trajectory to use with the testers\n",
    "import os, sys\n",
    "import numpy as np\n",
    "import matplotlib.pyplot as plt\n",
    "\n",
    "sys.path.append(os.getcwd())\n",
    "sys.path.append(os.path.join(os.getcwd(), \"..\", \"..\"))\n",
    "sys.path.append(os.path.join(os.getcwd(), \"..\", \"..\", \"gtracr\"))\n",
    "# sys.path.append(os.path.join(os.getcwd(), \"gtracr\"))\n",
    "\n",
    "\n",
    "from trajectory import Trajectory\n",
    "from trajectorypoint import TrajectoryPoint\n",
    "# from gtracr.utils import spherical_to_cartesian\n",
    "from constants import EARTH_RADIUS\n",
    "from utils import dec_to_dms\n",
    "from misc import get_locationdict"
   ]
  },
  {
   "cell_type": "code",
   "execution_count": 3,
   "metadata": {},
   "outputs": [],
   "source": [
    "locationdict = get_locationdict()\n",
    "kamioka = locationdict[\"Kamioka\"]"
   ]
  },
  {
   "cell_type": "code",
   "execution_count": 4,
   "metadata": {},
   "outputs": [
    {
     "data": {
      "text/plain": [
       "('36°26\\'0\"N', '137°16\\'0\"E')"
      ]
     },
     "execution_count": 4,
     "metadata": {},
     "output_type": "execute_result"
    }
   ],
   "source": [
    "dec_to_dms(kamioka.latitude, kamioka.longitude)"
   ]
  },
  {
   "cell_type": "code",
   "execution_count": null,
   "metadata": {},
   "outputs": [],
   "source": []
  }
 ],
 "metadata": {
  "kernelspec": {
   "display_name": "Python 3",
   "language": "python",
   "name": "python3"
  },
  "language_info": {
   "codemirror_mode": {
    "name": "ipython",
    "version": 3
   },
   "file_extension": ".py",
   "mimetype": "text/x-python",
   "name": "python",
   "nbconvert_exporter": "python",
   "pygments_lexer": "ipython3",
   "version": "3.7.3"
  }
 },
 "nbformat": 4,
 "nbformat_minor": 4
}
