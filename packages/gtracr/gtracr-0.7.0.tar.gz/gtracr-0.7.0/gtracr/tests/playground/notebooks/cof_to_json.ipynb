{
 "cells": [
  {
   "cell_type": "code",
   "execution_count": 1,
   "metadata": {},
   "outputs": [],
   "source": [
    "import os\n",
    "import sys\n",
    "import json\n",
    "import numpy as np\n",
    "\n",
    "IGRF_VERSION = 13  # should be updated with each IGRF version\n",
    "\n",
    "CURRENT_DIR = os.path.dirname(os.path.realpath(os.getcwd()))\n",
    "PARENT_DIR = os.path.dirname(os.path.dirname(CURRENT_DIR))\n",
    "DATA_DIR = os.path.join(PARENT_DIR, \"data\")\n",
    "COF_PATH = os.path.join(DATA_DIR, \"IGRF{0}.COF\".format(IGRF_VERSION))\n",
    "JSON_PATH = os.path.join(DATA_DIR, \"igrf{0}.json\".format(IGRF_VERSION))"
   ]
  },
  {
   "cell_type": "code",
   "execution_count": 19,
   "metadata": {},
   "outputs": [],
   "source": [
    "# initialize arrays to store content\n",
    "model_arr = []\n",
    "epoch_arr = []\n",
    "nmain_arr = []  # max1 in original\n",
    "nsv_arr = []   # max2 in original\n",
    "nac_arr = []  # max2 in original\n",
    "yrmin_arr = []  \n",
    "yrmax_arr = []\n",
    "altmin_arr = []\n",
    "altmax_arr = []"
   ]
  },
  {
   "cell_type": "code",
   "execution_count": 20,
   "metadata": {},
   "outputs": [],
   "source": [
    "# read the file\n",
    "with open(COF_PATH, \"r\") as f:\n",
    "    lines = [line.rstrip() for line in f]  # get each line as a string\n",
    "    for line in lines:\n",
    "        line_elems = str.split(line) # get contents of each line\n",
    "        if len(line_elems) != 8:  # model line\n",
    "#             print(line_elems)\n",
    "            # truncate\n",
    "            line_elems = line_elems[:-2]\n",
    "#             print(line_elems)\n",
    "            # unpack\n",
    "            (model, epoch, nmain, nsv, nac, yrmin, yrmax, altmin, altmax) = line_elems\n",
    "            \n",
    "            # append to array\n",
    "            model_arr.append(model)\n",
    "            epoch_arr.append(epoch + \"0000\")  # required for reading files in C++\n",
    "            nmain_arr.append(int(nmain))\n",
    "            nsv_arr.append(int(nsv))\n",
    "            nac_arr.append(int(nac))\n",
    "            yrmin_arr.append(float(yrmin))\n",
    "            yrmax_arr.append(float(yrmax))\n",
    "            altmin_arr.append(float(altmin))\n",
    "            altmax_arr.append(float(altmax))\n",
    "            \n",
    "        else:  # coefficient line\n",
    "            continue  # pass for now, do this for each model"
   ]
  },
  {
   "cell_type": "code",
   "execution_count": 21,
   "metadata": {},
   "outputs": [
    {
     "name": "stdout",
     "output_type": "stream",
     "text": [
      "['1900.000000', '1905.000000', '1910.000000', '1915.000000', '1920.000000', '1925.000000', '1930.000000', '1935.000000', '1940.000000', '1945.000000', '1950.000000', '1955.000000', '1960.000000', '1965.000000', '1970.000000', '1975.000000', '1980.000000', '1985.000000', '1990.000000', '1995.000000', '2000.000000', '2005.000000', '2010.000000', '2015.000000', '2020.000000']\n",
      "<class 'str'>\n",
      "[1900.0, 1905.0, 1910.0, 1915.0, 1920.0, 1925.0, 1930.0, 1935.0, 1940.0, 1945.0, 1950.0, 1955.0, 1960.0, 1965.0, 1970.0, 1975.0, 1980.0, 1985.0, 1990.0, 1995.0, 2000.0, 2005.0, 2010.0, 2015.0, 2020.0]\n"
     ]
    }
   ],
   "source": [
    "# check if we did this eright\n",
    "print(epoch_arr)\n",
    "print(type(epoch_arr[0]))\n",
    "print(yrmin_arr)"
   ]
  },
  {
   "cell_type": "code",
   "execution_count": 22,
   "metadata": {},
   "outputs": [],
   "source": [
    "# create the framework for the json file\n",
    "igrf_dict = dict((epoch, {}) for epoch in epoch_arr)\n",
    "# print(igrf_dict)\n",
    "for i, date in enumerate(list(igrf_dict.keys())):\n",
    "    igrf_dict[date][\"model\"] = model_arr[i]\n",
    "    igrf_dict[date][\"nmain\"] = nmain_arr[i]\n",
    "    igrf_dict[date][\"nsv\"] = nsv_arr[i]\n",
    "    igrf_dict[date][\"nac\"] = nac_arr[i]\n",
    "    igrf_dict[date][\"yrmin\"] = yrmin_arr[i]\n",
    "    igrf_dict[date][\"yrmax\"] = yrmax_arr[i]\n",
    "    igrf_dict[date][\"altmin\"] = yrmin_arr[i]\n",
    "    igrf_dict[date][\"altmax\"] = altmax_arr[i]\n",
    "    \n",
    "    igrf_dict[date][\"gh\"] = []\n",
    "    igrf_dict[date][\"gh_sv\"] = []\n",
    "# print(igrf_dict)"
   ]
  },
  {
   "cell_type": "code",
   "execution_count": 23,
   "metadata": {},
   "outputs": [],
   "source": [
    "# create way to find specific date based on model\n",
    "model_dict = dict((model_arr[i],epoch_arr[i]) for i in range(len(model_arr)))"
   ]
  },
  {
   "cell_type": "code",
   "execution_count": 24,
   "metadata": {},
   "outputs": [
    {
     "name": "stdout",
     "output_type": "stream",
     "text": [
      "dict_keys(['1900.000000', '1905.000000', '1910.000000', '1915.000000', '1920.000000', '1925.000000', '1930.000000', '1935.000000', '1940.000000', '1945.000000', '1950.000000', '1955.000000', '1960.000000', '1965.000000', '1970.000000', '1975.000000', '1980.000000', '1985.000000', '1990.000000', '1995.000000', '2000.000000', '2005.000000', '2010.000000', '2015.000000', '2020.000000'])\n"
     ]
    }
   ],
   "source": [
    "print(igrf_dict.keys())"
   ]
  },
  {
   "cell_type": "code",
   "execution_count": 25,
   "metadata": {},
   "outputs": [],
   "source": [
    "# reopen the file and store the coefficients\n",
    "\n",
    "# they are evaluated in C++ where we have something like:\n",
    "# gh = [g10, h10, g11, h11, g20, h20, g21, h21, ...]\n",
    "# but hn0 = 0, so these are effectively removed, resulting in:\n",
    "# gh = [g10, g11, h11, g20, g21, h21, ...]\n",
    "\n",
    "# same thing applies to secular variation coefficients\n",
    "\n",
    "with open(COF_PATH, \"r\") as f:\n",
    "    lines = [line.rstrip() for line in f]  # get each line as a string\n",
    "    for line in lines:\n",
    "        line_elems = str.split(line) # get contents of each line\n",
    "        \n",
    "        if len(line_elems) == 8:  # coefficient line\n",
    "            # contents are given in the following order:\n",
    "            # n, m, g, h, g_dot, h_dot, model, line_num\n",
    "\n",
    "            (n, m, g, h, gdot, hdot, model, line_num) = line_elems\n",
    "            \n",
    "            # cast values to int / float\n",
    "            n = int(n)\n",
    "            m = int(m)\n",
    "            g = float(g)\n",
    "            h = float(h)\n",
    "            gdot = float(gdot)\n",
    "            hdot = float(hdot)\n",
    "\n",
    "            # find date specific to each model\n",
    "            date = model_dict[model]\n",
    "            \n",
    "            # append coefficients and secular variation\n",
    "            igrf_dict[date][\"gh\"].append(g)\n",
    "            igrf_dict[date][\"gh_sv\"].append(gdot)\n",
    "            if m != 0:  # only append h when m != 0\n",
    "                igrf_dict[date][\"gh\"].append(h)\n",
    "                igrf_dict[date][\"gh_sv\"].append(hdot)"
   ]
  },
  {
   "cell_type": "code",
   "execution_count": 27,
   "metadata": {},
   "outputs": [
    {
     "name": "stdout",
     "output_type": "stream",
     "text": [
      "[5.7, 7.4, -25.9, -11.0, -7.0, -30.2, -2.1, -22.4, 2.2, -5.9, 6.0, 3.1, -1.1, -12.0, 0.5, -1.2, -1.6, -0.1, -5.9, 6.5, 5.2, 3.6, -5.1, -5.0, -0.3, 0.5, 0.0, -0.6, 2.5, 0.2, -0.6, 1.3, 3.0, 0.9, 0.3, -0.5, -0.3, 0.0, 0.4, -1.6, 1.3, -1.3, -1.4, 0.8, 0.0, 0.0, 0.9, 1.0, -0.1, -0.2, 0.6, 0.0, 0.6, 0.7, -0.8, 0.1, -0.2, -0.5, -1.1, -0.8, 0.1, 0.8, 0.3, 0.0, 0.1, -0.2, -0.1, 0.6, 0.4, -0.2, -0.1, 0.5, 0.4, -0.3, 0.3, -0.4, -0.1, 0.5, 0.4, 0.0, 0.0, 0.0, 0.0, 0.0, 0.0, 0.0, 0.0, 0.0, 0.0, 0.0, 0.0, 0.0, 0.0, 0.0, 0.0, 0.0, 0.0, 0.0, 0.0, 0.0, 0.0, 0.0, 0.0, 0.0, 0.0, 0.0, 0.0, 0.0, 0.0, 0.0, 0.0, 0.0, 0.0, 0.0, 0.0, 0.0, 0.0, 0.0, 0.0, 0.0, 0.0, 0.0, 0.0, 0.0, 0.0, 0.0, 0.0, 0.0, 0.0, 0.0, 0.0, 0.0, 0.0, 0.0, 0.0, 0.0, 0.0, 0.0, 0.0, 0.0, 0.0, 0.0, 0.0, 0.0, 0.0, 0.0, 0.0, 0.0, 0.0, 0.0, 0.0, 0.0, 0.0, 0.0, 0.0, 0.0, 0.0, 0.0, 0.0, 0.0, 0.0, 0.0, 0.0, 0.0, 0.0, 0.0, 0.0, 0.0, 0.0, 0.0, 0.0, 0.0, 0.0, 0.0, 0.0, 0.0, 0.0, 0.0, 0.0, 0.0, 0.0, 0.0, 0.0, 0.0, 0.0, 0.0, 0.0, 0.0, 0.0, 0.0, 0.0, 0.0, 0.0, 0.0, 0.0]\n"
     ]
    }
   ],
   "source": [
    "# check if we did this correctly\n",
    "print(igrf_dict[\"2020.000000\"][\"gh_sv\"])"
   ]
  },
  {
   "cell_type": "code",
   "execution_count": 5,
   "metadata": {},
   "outputs": [
    {
     "name": "stdout",
     "output_type": "stream",
     "text": [
      "[-31543.0, -2298.0, 5922.0, -677.0, 2905.0, -1061.0, 924.0, 1121.0, 1022.0, -1469.0, -330.0, 1256.0, 3.0, 572.0, 523.0, 876.0, 628.0, 195.0, 660.0, -69.0, -361.0, -210.0, 134.0, -75.0, -184.0, 328.0, -210.0, 264.0, 53.0, 5.0, -33.0, -86.0, -124.0, -16.0, 3.0, 63.0, 61.0, -9.0, -11.0, 83.0, -217.0, 2.0, -58.0, -35.0, 59.0, 36.0, -90.0, -69.0, 70.0, -55.0, -45.0, 0.0, -13.0, 34.0, -10.0, -41.0, -1.0, -21.0, 28.0, 18.0, -12.0, 6.0, -22.0, 11.0, 8.0, 8.0, -4.0, -14.0, -9.0, 7.0, 1.0, -13.0, 2.0, 5.0, -9.0, 16.0, 5.0, -5.0, 8.0, -18.0, 8.0, 10.0, -20.0, 1.0, 14.0, -11.0, 5.0, 12.0, -3.0, 1.0, -2.0, -2.0, 8.0, 2.0, 10.0, -1.0, -2.0, -1.0, 2.0, -3.0, -4.0, 2.0, 2.0, 1.0, -5.0, 2.0, -2.0, 6.0, 6.0, -4.0, 4.0, 0.0, 0.0, -2.0, 2.0, 4.0, 2.0, 0.0, 0.0, -6.0]\n"
     ]
    }
   ],
   "source": [
    "# check here if json file is properly unpacked\n",
    "\n",
    "with open(JSON_PATH, \"r\") as f:\n",
    "    j = json.load(f)\n",
    "\n",
    "print(j[\"1900.000000\"][\"gh\"])"
   ]
  },
  {
   "cell_type": "code",
   "execution_count": 9,
   "metadata": {},
   "outputs": [
    {
     "name": "stdout",
     "output_type": "stream",
     "text": [
      "120\n"
     ]
    }
   ],
   "source": [
    "x = j[\"1905.000000\"][\"gh\"]\n",
    "print(len(x))"
   ]
  },
  {
   "cell_type": "code",
   "execution_count": null,
   "metadata": {},
   "outputs": [],
   "source": []
  }
 ],
 "metadata": {
  "kernelspec": {
   "display_name": "Python 3",
   "language": "python",
   "name": "python3"
  },
  "language_info": {
   "codemirror_mode": {
    "name": "ipython",
    "version": 3
   },
   "file_extension": ".py",
   "mimetype": "text/x-python",
   "name": "python",
   "nbconvert_exporter": "python",
   "pygments_lexer": "ipython3",
   "version": "3.8.2"
  }
 },
 "nbformat": 4,
 "nbformat_minor": 4
}
