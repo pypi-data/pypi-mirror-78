{
 "cells": [
  {
   "cell_type": "code",
   "execution_count": 1,
   "metadata": {},
   "outputs": [],
   "source": [
    "# compares between different versions of the code\n",
    "import os, sys\n",
    "import numpy as np\n",
    "import matplotlib.pyplot as plt\n",
    "\n",
    "sys.path.append(os.getcwd())\n",
    "sys.path.append(os.path.join(os.getcwd(), \"..\", \"..\"))\n",
    "sys.path.append(os.path.join(os.getcwd(), \"..\", \"..\", \"gtracr\"))\n",
    "\n",
    "from trajectory import Trajectory\n",
    "from constants import EARTH_RADIUS\n",
    "\n",
    "def convert_trajectory_to_cartesian(trajectory_dict):\n",
    "    r_arr = np.array(trajectory_dict[\"r\"]) / EARTH_RADIUS\n",
    "    theta_arr = np.array(trajectory_dict[\"theta\"])\n",
    "    phi_arr = np.array(trajectory_dict[\"phi\"])\n",
    "    \n",
    "    x_arr = r_arr * np.sin(theta_arr) * np.cos(phi_arr)\n",
    "    y_arr = r_arr * np.sin(theta_arr) * np.sin(phi_arr)\n",
    "    z_arr = r_arr * np.cos(theta_arr)\n",
    "    \n",
    "    return x_arr, y_arr, z_arr\n",
    "\n",
    "def magnitude(x_arr, y_arr, z_arr):\n",
    "    return np.sqrt(x_arr**2. + y_arr**2. + z_arr**2.)"
   ]
  },
  {
   "cell_type": "code",
   "execution_count": 2,
   "metadata": {},
   "outputs": [],
   "source": [
    "# %load_ext snakeviz"
   ]
  },
  {
   "cell_type": "code",
   "execution_count": 7,
   "metadata": {},
   "outputs": [],
   "source": [
    "traj1 = Trajectory(\n",
    "        \"p+\",\n",
    "        latitude=0.,\n",
    "        longitude=0.,\n",
    "        detector_altitude=100.,\n",
    "        zenith_angle=0.,\n",
    "        azimuth_angle=0.,\n",
    "        particle_altitude=100.,\n",
    "        rigidity=40.,\n",
    "        bfield_type=\"dipole\"\n",
    "    )\n",
    "\n",
    "traj2 = Trajectory(\n",
    "        \"p+\",\n",
    "        latitude=0.,\n",
    "        longitude=0.,\n",
    "        detector_altitude=100.,\n",
    "        zenith_angle=0.,\n",
    "        azimuth_angle=0.,\n",
    "        particle_altitude=100.,\n",
    "        rigidity=40.,\n",
    "        bfield_type=\"dipole\"\n",
    "    )\n",
    "\n",
    "\n",
    "# result = traj.get_trajectory(max_step=1000000, step_size=1e-6, get_data=True)\n",
    "trajdata1 = traj1.get_trajectory(dt=1e-5, max_time=0.05, max_step=10000, get_data=True, use_python=False)  # 1000 iterations with dt=1e-5, max_time=0.05s\n",
    "\n",
    "trajdata2 = traj2.get_trajectory(dt=1e-5, max_time=0.05, max_step=10000, get_data=True, use_unvectorized=True)  # 1000 iterations with dt=1e-5, max_time=0.05s"
   ]
  },
  {
   "cell_type": "code",
   "execution_count": 8,
   "metadata": {},
   "outputs": [],
   "source": [
    "t_arr1 = trajdata1[\"t\"]\n",
    "x_arr1, y_arr1, z_arr1 = convert_trajectory_to_cartesian(trajdata1)\n",
    "mag_arr1 = magnitude(x_arr1, y_arr1, z_arr1)\n",
    "\n",
    "t_arr2 = trajdata2[\"t\"]\n",
    "x_arr2, y_arr2, z_arr2 = convert_trajectory_to_cartesian(trajdata2)\n",
    "mag_arr2 = magnitude(x_arr2, y_arr2, z_arr2)"
   ]
  },
  {
   "cell_type": "code",
   "execution_count": 9,
   "metadata": {},
   "outputs": [
    {
     "data": {
      "text/plain": [
       "Text(0.5, 1.0, 'Trajectory between two versions of the code')"
      ]
     },
     "execution_count": 9,
     "metadata": {},
     "output_type": "execute_result"
    },
    {
     "data": {
      "image/png": "[encoded data removed]",
      "text/plain": [
       "<Figure size 432x288 with 1 Axes>"
      ]
     },
     "metadata": {
      "needs_background": "light"
     },
     "output_type": "display_data"
    }
   ],
   "source": [
    "# compare between the magnitudes of both versions vs time\n",
    "fig, ax = plt.subplots()\n",
    "ax.scatter(x_arr1, y_arr1, c=\"r\")\n",
    "ax.scatter(x_arr2, y_arr2, c=\"b\")\n",
    "ax.set_xlabel(r\"x [$R_E$]\")\n",
    "ax.set_ylabel(r\"y [$R_E$]\")\n",
    "ax.set_title(\"Trajectory between two versions of the code\")"
   ]
  },
  {
   "cell_type": "code",
   "execution_count": 10,
   "metadata": {},
   "outputs": [
    {
     "data": {
      "text/plain": [
       "Text(0.5, 1.0, 'Trajectory between two versions of the code')"
      ]
     },
     "execution_count": 10,
     "metadata": {},
     "output_type": "execute_result"
    },
    {
     "data": {
      "image/png": "[encoded data removed]",
      "text/plain": [
       "<Figure size 432x288 with 1 Axes>"
      ]
     },
     "metadata": {
      "needs_background": "light"
     },
     "output_type": "display_data"
    }
   ],
   "source": [
    "# use time array that is larger\n",
    "# t_arr = t_arr1 if len(t_arr1) > len(t_arr2) else t_arr2\n",
    "# compare between the magnitudes of both versions vs time\n",
    "fig, ax = plt.subplots()\n",
    "ax.plot(t_arr1, mag_arr1, color=\"r\")\n",
    "ax.plot(t_arr2, mag_arr2, color=\"b\")\n",
    "ax.set_xlabel(\"Time [s]\")\n",
    "ax.set_ylabel(r\"$\\| \\vec{r} \\|$ [$R_E$]\")\n",
    "ax.set_title(\"Trajectory between two versions of the code\")"
   ]
  },
  {
   "cell_type": "code",
   "execution_count": null,
   "metadata": {},
   "outputs": [],
   "source": []
  }
 ],
 "metadata": {
  "kernelspec": {
   "display_name": "Python 3",
   "language": "python",
   "name": "python3"
  },
  "language_info": {
   "codemirror_mode": {
    "name": "ipython",
    "version": 3
   },
   "file_extension": ".py",
   "mimetype": "text/x-python",
   "name": "python",
   "nbconvert_exporter": "python",
   "pygments_lexer": "ipython3",
   "version": "3.8.2"
  }
 },
 "nbformat": 4,
 "nbformat_minor": 4
}
