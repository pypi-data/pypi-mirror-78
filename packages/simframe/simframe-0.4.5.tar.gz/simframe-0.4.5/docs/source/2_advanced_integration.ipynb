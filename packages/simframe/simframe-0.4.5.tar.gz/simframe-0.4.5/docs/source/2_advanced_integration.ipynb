{
 "cells": [
  {
   "cell_type": "markdown",
   "metadata": {},
   "source": [
    "In this tutorial you'll learn how to\n",
    "\n",
    "* create groups\n",
    "* create immutable fields\n",
    "* display the entire content tree\n",
    "* set up complex instruction sets\n",
    "* set up leapfrog integration\n",
    "\n",
    "For this notebook you need `astropy` and `matplotlib` in addition to the `simframe` requirements."
   ]
  },
  {
   "cell_type": "markdown",
   "metadata": {},
   "source": [
    "# Advanced Integration\n",
    "\n",
    "Let's have a look at orbital integration.\\\n",
    "Consider a planet Earth orbiting the Sun. How does its orbit look like?\n",
    "\n",
    "The equations of motion are determined by a set of two differential equations for the position $\\vec{r}$ and velocity $\\vec{v}$ of Earth and Sun..\n",
    "\n",
    "$\\frac{\\mathrm{d}}{\\mathrm{d}t} \\vec{r} = \\vec{v}$\n",
    "\n",
    "$m\\frac{\\mathrm{d}}{\\mathrm{d}t} \\vec{v} = \\vec{F}_\\mathrm{G}$\n",
    "\n",
    "The gravitational force $F_\\mathrm{G}$ of a body of mass $M$ and position $\\vec{R}$ acting on a body of mass $m$ at position $\\vec{r}$ is given by\n",
    "\n",
    "$\\vec{F}_\\mathrm{G} = -GmM\\frac{\\vec{r}-\\vec{R}}{\\left| \\vec{r}-\\vec{R} \\right|^3}$"
   ]
  },
  {
   "cell_type": "markdown",
   "metadata": {},
   "source": [
    "## Creating groups\n",
    "\n",
    "First we need to add fields for postion, velocity, and mass for Earth and Sun.\\\n",
    "To have more structure we group the fields by Earth and Sun. This can be done with `addgroup(name)`."
   ]
  },
  {
   "cell_type": "code",
   "execution_count": 1,
   "metadata": {},
   "outputs": [],
   "source": [
    "from simframe import Frame"
   ]
  },
  {
   "cell_type": "code",
   "execution_count": 2,
   "metadata": {},
   "outputs": [],
   "source": [
    "sim = Frame(description=\"Earth-Sun system\")"
   ]
  },
  {
   "cell_type": "code",
   "execution_count": 3,
   "metadata": {},
   "outputs": [],
   "source": [
    "sim.addgroup(\"Sun\")\n",
    "sim.addgroup(\"Earth\")"
   ]
  },
  {
   "cell_type": "markdown",
   "metadata": {},
   "source": [
    "The frame object has now two groups for Earth and Sun, that can be adressed just as fields."
   ]
  },
  {
   "cell_type": "code",
   "execution_count": 4,
   "metadata": {},
   "outputs": [
    {
     "data": {
      "text/plain": [
       "Frame (Earth-Sun system)\n",
       "------------------------\n",
       "    Earth        : Group\n",
       "    Sun          : Group\n",
       "  -----\n",
       "    Integrator   : \u001b[93mnot specified\u001b[0m\n",
       "    Writer       : \u001b[93mnot specified\u001b[0m"
      ]
     },
     "execution_count": 4,
     "metadata": {},
     "output_type": "execute_result"
    }
   ],
   "source": [
    "sim"
   ]
  },
  {
   "cell_type": "markdown",
   "metadata": {},
   "source": [
    "We will keep the problem general in three dimensions, but we will only use two of them for simplicity.\\\n",
    "Although spherical coordinates would be more suitable for the problem, we will use Carteesian coordinates here.\n",
    "\n",
    "We'll use the `astropy.constants` and `astropy.units` modules for the constants and units we need here."
   ]
  },
  {
   "cell_type": "code",
   "execution_count": 5,
   "metadata": {},
   "outputs": [],
   "source": [
    "import astropy.constants as c\n",
    "import astropy.units as u"
   ]
  },
  {
   "cell_type": "code",
   "execution_count": 6,
   "metadata": {},
   "outputs": [],
   "source": [
    "AU   = (1.*u.au).si.value    # Astronomical unit [m]\n",
    "day  = (1.*u.day).si.value   # Day [s]\n",
    "G    = c.G.si.value          # Gravitational constant [m³/kg/s²]\n",
    "year = (1.*u.year).si.value  # Year [s]\n",
    "\n",
    "M_earth = c.M_earth.si.value # Mass of the Earth [kg]\n",
    "M_sun   = c.M_sun.si.value   # Mass of the Sun [kg]"
   ]
  },
  {
   "cell_type": "markdown",
   "metadata": {},
   "source": [
    "## Creating immutable fields\n",
    "\n",
    "We can now fill the groups with the variables we need, starting with the masses.  \n",
    "Again: the initial values must have the correct shape and data types."
   ]
  },
  {
   "cell_type": "code",
   "execution_count": 7,
   "metadata": {},
   "outputs": [],
   "source": [
    "sim.Earth.addfield(\"M\", M_earth, description=\"Mass [kg]\")"
   ]
  },
  {
   "cell_type": "markdown",
   "metadata": {},
   "source": [
    "The groups and the fields within can be easily accessed with"
   ]
  },
  {
   "cell_type": "code",
   "execution_count": 8,
   "metadata": {},
   "outputs": [
    {
     "data": {
      "text/plain": [
       "Group\n",
       "-----\n",
       "    M            : Field (Mass [kg])\n",
       "  -----"
      ]
     },
     "execution_count": 8,
     "metadata": {},
     "output_type": "execute_result"
    }
   ],
   "source": [
    "sim.Earth"
   ]
  },
  {
   "cell_type": "code",
   "execution_count": 9,
   "metadata": {},
   "outputs": [
    {
     "data": {
      "text/plain": [
       "5.972167867791379e+24"
      ]
     },
     "execution_count": 9,
     "metadata": {},
     "output_type": "execute_result"
    }
   ],
   "source": [
    "sim.Earth.M"
   ]
  },
  {
   "cell_type": "markdown",
   "metadata": {},
   "source": [
    "The mass of the Earth shall be constant throughout the simulation. We therefore set a flag so we cannot accidentially change its value."
   ]
  },
  {
   "cell_type": "code",
   "execution_count": 10,
   "metadata": {},
   "outputs": [],
   "source": [
    "sim.Earth.M.constant = True"
   ]
  },
  {
   "cell_type": "code",
   "execution_count": 11,
   "metadata": {},
   "outputs": [
    {
     "data": {
      "text/plain": [
       "Group\n",
       "-----\n",
       "    M            : Field (Mass [kg]), \u001b[95mconstant\u001b[0m\n",
       "  -----"
      ]
     },
     "execution_count": 11,
     "metadata": {},
     "output_type": "execute_result"
    }
   ],
   "source": [
    "sim.Earth"
   ]
  },
  {
   "cell_type": "markdown",
   "metadata": {},
   "source": [
    "Now we add the mass of the Sun, which we directly set to constant when adding the field."
   ]
  },
  {
   "cell_type": "code",
   "execution_count": 12,
   "metadata": {},
   "outputs": [],
   "source": [
    "sim.Sun.addfield(\"M\", M_sun, constant=True, description=\"Mass [kg]\")"
   ]
  },
  {
   "cell_type": "code",
   "execution_count": 13,
   "metadata": {},
   "outputs": [
    {
     "data": {
      "text/plain": [
       "Group\n",
       "-----\n",
       "    M            : Field (Mass [kg]), \u001b[95mconstant\u001b[0m\n",
       "  -----"
      ]
     },
     "execution_count": 13,
     "metadata": {},
     "output_type": "execute_result"
    }
   ],
   "source": [
    "sim.Sun"
   ]
  },
  {
   "cell_type": "markdown",
   "metadata": {},
   "source": [
    "We can do all sorts of operations with those fields, such as calculating the mass ratio."
   ]
  },
  {
   "cell_type": "code",
   "execution_count": 14,
   "metadata": {},
   "outputs": [
    {
     "data": {
      "text/plain": [
       "3.0034893488507934e-06"
      ]
     },
     "execution_count": 14,
     "metadata": {},
     "output_type": "execute_result"
    }
   ],
   "source": [
    "sim.Earth.M / sim.Sun.M"
   ]
  },
  {
   "cell_type": "markdown",
   "metadata": {},
   "source": [
    "Now we need to add fields for position and velocity. We initialize them with zeros and think later about the initial conditions.\\\n",
    "The important thing is that the have the right shape upon initialization."
   ]
  },
  {
   "cell_type": "code",
   "execution_count": 15,
   "metadata": {},
   "outputs": [],
   "source": [
    "import numpy as np"
   ]
  },
  {
   "cell_type": "code",
   "execution_count": 16,
   "metadata": {},
   "outputs": [],
   "source": [
    "sim.Earth.addfield(\"r\", np.zeros(3), description=\"Position [m]\")\n",
    "sim.Earth.addfield(\"v\", np.zeros(3), description=\"Velocity [m/s]\")\n",
    "sim.Sun.addfield(\"r\", np.zeros(3), description=\"Position [m]\")\n",
    "sim.Sun.addfield(\"v\", np.zeros(3), description=\"Velocity [m/s]\")"
   ]
  },
  {
   "cell_type": "code",
   "execution_count": 17,
   "metadata": {},
   "outputs": [
    {
     "data": {
      "text/plain": [
       "Group\n",
       "-----\n",
       "    M            : Field (Mass [kg]), \u001b[95mconstant\u001b[0m\n",
       "    r            : Field (Position [m])\n",
       "    v            : Field (Velocity [m/s])\n",
       "  -----"
      ]
     },
     "execution_count": 17,
     "metadata": {},
     "output_type": "execute_result"
    }
   ],
   "source": [
    "sim.Earth"
   ]
  },
  {
   "cell_type": "code",
   "execution_count": 18,
   "metadata": {},
   "outputs": [
    {
     "data": {
      "text/plain": [
       "Group\n",
       "-----\n",
       "    M            : Field (Mass [kg]), \u001b[95mconstant\u001b[0m\n",
       "    r            : Field (Position [m])\n",
       "    v            : Field (Velocity [m/s])\n",
       "  -----"
      ]
     },
     "execution_count": 18,
     "metadata": {},
     "output_type": "execute_result"
    }
   ],
   "source": [
    "sim.Sun"
   ]
  },
  {
   "cell_type": "markdown",
   "metadata": {},
   "source": [
    "**Setting the integration variable**\n",
    "\n",
    "For our simulation we need an integration variable. In our case this is the time."
   ]
  },
  {
   "cell_type": "code",
   "execution_count": 19,
   "metadata": {},
   "outputs": [],
   "source": [
    "sim.addintegrationvariable(\"t\", 0., description=\"Time [s]\")"
   ]
  },
  {
   "cell_type": "markdown",
   "metadata": {},
   "source": [
    "We'll set the step size to a constant value of one day."
   ]
  },
  {
   "cell_type": "code",
   "execution_count": 20,
   "metadata": {},
   "outputs": [],
   "source": [
    "dt = 1.*day"
   ]
  },
  {
   "cell_type": "code",
   "execution_count": 21,
   "metadata": {},
   "outputs": [],
   "source": [
    "def f_dt(frame):\n",
    "    return dt"
   ]
  },
  {
   "cell_type": "code",
   "execution_count": 22,
   "metadata": {},
   "outputs": [],
   "source": [
    "sim.t.updater = f_dt"
   ]
  },
  {
   "cell_type": "markdown",
   "metadata": {},
   "source": [
    "We want to integrate for two years and want to have a snapshot every ten days."
   ]
  },
  {
   "cell_type": "code",
   "execution_count": 23,
   "metadata": {},
   "outputs": [],
   "source": [
    "snapwidth = 10.*day\n",
    "tmax = 2.*year"
   ]
  },
  {
   "cell_type": "code",
   "execution_count": 24,
   "metadata": {},
   "outputs": [],
   "source": [
    "sim.t.snapshots = np.arange(snapwidth, tmax, snapwidth)"
   ]
  },
  {
   "cell_type": "markdown",
   "metadata": {},
   "source": [
    "**Note:** If the initial value of the integration variable is smaller the first snapshot, `simframe` automatically writes an output with initial conditions, if a writer is set."
   ]
  },
  {
   "cell_type": "code",
   "execution_count": 25,
   "metadata": {},
   "outputs": [
    {
     "data": {
      "text/plain": [
       "Frame (Earth-Sun system)\n",
       "------------------------\n",
       "    Earth        : Group\n",
       "    Sun          : Group\n",
       "  -----\n",
       "    t            : Field (Time [s]), \u001b[95mIntegration variable\u001b[0m\n",
       "  -----\n",
       "    Integrator   : \u001b[93mnot specified\u001b[0m\n",
       "    Writer       : \u001b[93mnot specified\u001b[0m"
      ]
     },
     "execution_count": 25,
     "metadata": {},
     "output_type": "execute_result"
    }
   ],
   "source": [
    "sim"
   ]
  },
  {
   "cell_type": "markdown",
   "metadata": {},
   "source": [
    "**Setting the writer**\n",
    "\n",
    "As a writer we use the namespacewriter, which does not write the data into files, but stores them within a buffer in the writer."
   ]
  },
  {
   "cell_type": "code",
   "execution_count": 26,
   "metadata": {},
   "outputs": [],
   "source": [
    "from simframe import writers"
   ]
  },
  {
   "cell_type": "code",
   "execution_count": 27,
   "metadata": {},
   "outputs": [],
   "source": [
    "sim.writer = writers.namespacewriter"
   ]
  },
  {
   "cell_type": "markdown",
   "metadata": {},
   "source": [
    "We do not want to write dump files here."
   ]
  },
  {
   "cell_type": "code",
   "execution_count": 28,
   "metadata": {},
   "outputs": [],
   "source": [
    "sim.writer.dumping = False"
   ]
  },
  {
   "cell_type": "code",
   "execution_count": 29,
   "metadata": {},
   "outputs": [
    {
     "data": {
      "text/plain": [
       "Writer (Namespace writer)\n",
       "-------------------------\n",
       "    Data directory : data\n",
       "    Dumping        : \u001b[93mFalse\u001b[0m\n",
       "    Verbosity      : 1"
      ]
     },
     "execution_count": 29,
     "metadata": {},
     "output_type": "execute_result"
    }
   ],
   "source": [
    "sim.writer"
   ]
  },
  {
   "cell_type": "markdown",
   "metadata": {},
   "source": [
    "**Adding differential equations**\n",
    "\n",
    "As a next step we'll add differential equations to the quantities. The differential equations for the positions are simple. We simply return the velocities, which we can adress with the `frame` argument."
   ]
  },
  {
   "cell_type": "code",
   "execution_count": 30,
   "metadata": {},
   "outputs": [],
   "source": [
    "def dr_Earth(frame, x, Y):\n",
    "    return frame.Earth.v\n",
    "\n",
    "def dr_Sun(frame, x, Y):\n",
    "    return frame.Sun.v"
   ]
  },
  {
   "cell_type": "markdown",
   "metadata": {},
   "source": [
    "For the differential equations of the velocities we'll write a little helper function that computes the gravitational accelleration."
   ]
  },
  {
   "cell_type": "code",
   "execution_count": 31,
   "metadata": {},
   "outputs": [],
   "source": [
    "# Gravitational acceleration\n",
    "def ag(M, r, R):\n",
    "    direction = r-R\n",
    "    distance = np.linalg.norm(direction)\n",
    "    return -G * M * direction / distance**3"
   ]
  },
  {
   "cell_type": "code",
   "execution_count": 32,
   "metadata": {},
   "outputs": [],
   "source": [
    "def dv_Earth(frame, x, Y):\n",
    "    return ag(frame.Sun.M, frame.Earth.r, frame.Sun.r)\n",
    "\n",
    "def dv_Sun(frame, x, Y):\n",
    "    return ag(frame.Earth.M, frame.Sun.r, frame.Earth.r)"
   ]
  },
  {
   "cell_type": "markdown",
   "metadata": {},
   "source": [
    "Now we need to add the differential equations to their fields."
   ]
  },
  {
   "cell_type": "code",
   "execution_count": 33,
   "metadata": {},
   "outputs": [],
   "source": [
    "sim.Earth.v.differentiator = dv_Earth\n",
    "sim.Earth.r.differentiator = dr_Earth\n",
    "sim.Sun.v.differentiator   = dv_Sun\n",
    "sim.Sun.r.differentiator   = dr_Sun"
   ]
  },
  {
   "cell_type": "markdown",
   "metadata": {},
   "source": [
    "## Displaying the table of contents\n",
    "\n",
    "You can also display the complete tree structure of your frame."
   ]
  },
  {
   "cell_type": "code",
   "execution_count": 34,
   "metadata": {},
   "outputs": [
    {
     "name": "stdout",
     "output_type": "stream",
     "text": [
      "\u001b[94mFrame (Earth-Sun system)\u001b[0m\n",
      "    - \u001b[94mEarth\u001b[0m: \u001b[94mGroup\u001b[0m\n",
      "        - \u001b[94mM\u001b[0m: Field (Mass [kg]), \u001b[95mconstant\u001b[0m\n",
      "        - \u001b[94mr\u001b[0m: Field (Position [m])\n",
      "        - \u001b[94mv\u001b[0m: Field (Velocity [m/s])\n",
      "    - \u001b[94mSun\u001b[0m: \u001b[94mGroup\u001b[0m\n",
      "        - \u001b[94mM\u001b[0m: Field (Mass [kg]), \u001b[95mconstant\u001b[0m\n",
      "        - \u001b[94mr\u001b[0m: Field (Position [m])\n",
      "        - \u001b[94mv\u001b[0m: Field (Velocity [m/s])\n",
      "    - \u001b[94mt\u001b[0m: Field (Time [s]), \u001b[95mIntegration variable\u001b[0m\n"
     ]
    }
   ],
   "source": [
    "sim.toc"
   ]
  },
  {
   "cell_type": "markdown",
   "metadata": {},
   "source": [
    "## Setting up complex integration instructions\n",
    "\n",
    "Next we need to set up the integrator. We integrate all quantities with the explicit Euler 1st-order scheme as in the previous tutorial, but this time he have to integrate four fields. This can be easily achieved by adding four instructions."
   ]
  },
  {
   "cell_type": "code",
   "execution_count": 35,
   "metadata": {},
   "outputs": [],
   "source": [
    "from simframe import Integrator\n",
    "from simframe.integration import Instruction\n",
    "from simframe import schemes"
   ]
  },
  {
   "cell_type": "code",
   "execution_count": 36,
   "metadata": {},
   "outputs": [],
   "source": [
    "sim.integrator = Integrator(sim.t, description=\"Euler 1st-order\")"
   ]
  },
  {
   "cell_type": "code",
   "execution_count": 37,
   "metadata": {},
   "outputs": [],
   "source": [
    "instructions_euler = [Instruction(schemes.expl_1_euler, sim.Earth.r),\n",
    "                      Instruction(schemes.expl_1_euler, sim.Earth.v),\n",
    "                      Instruction(schemes.expl_1_euler, sim.Sun.r  ),\n",
    "                      Instruction(schemes.expl_1_euler, sim.Sun.v  ),\n",
    "                     ]"
   ]
  },
  {
   "cell_type": "code",
   "execution_count": 38,
   "metadata": {},
   "outputs": [],
   "source": [
    "sim.integrator.instructions = instructions_euler"
   ]
  },
  {
   "cell_type": "markdown",
   "metadata": {},
   "source": [
    "**Initial conditions**\n",
    "\n",
    "Before we can start the simulation, we have to think about initial conditions.\n",
    "\n",
    "If we simply set the Sun at rest in the center of our simulation and only set the position and velocity of the Earth, then the center of mass would have a non-zero momentum and would slowly drift away from its initial position.\n",
    "\n",
    "So what we do first: we set the Sun's positon to zero (i.e., don't do anything) and the Earth's position to a distance of 1 AU in positive x-direction. Then we'll offset their positions to center the system on the center of mass instead onto the Sun."
   ]
  },
  {
   "cell_type": "code",
   "execution_count": 39,
   "metadata": {},
   "outputs": [],
   "source": [
    "r_Earth_ini = np.array([AU, 0., 0.])\n",
    "r_Sun_ini = np.zeros(3)\n",
    "# Center of mass\n",
    "COM_ini = (M_earth*r_Earth_ini + M_sun*r_Sun_ini) / (M_earth+M_sun)\n",
    "# Offset both positions\n",
    "r_Earth_ini -= COM_ini\n",
    "r_Sun_ini -= COM_ini"
   ]
  },
  {
   "cell_type": "markdown",
   "metadata": {},
   "source": [
    "We save them in a separate variable instead of assigning them directly for later use."
   ]
  },
  {
   "cell_type": "markdown",
   "metadata": {},
   "source": [
    "The inital orbital velocities of the Earth shall be in positive y-direction, the velocity of the Sun in negative y-direction.\\\n",
    "For calculating the value we use the reduced mass $mu$ of the system."
   ]
  },
  {
   "cell_type": "code",
   "execution_count": 40,
   "metadata": {},
   "outputs": [],
   "source": [
    "mu = M_earth*M_sun / (M_earth+M_sun)"
   ]
  },
  {
   "cell_type": "code",
   "execution_count": 41,
   "metadata": {},
   "outputs": [],
   "source": [
    "v_Earth_ini = np.array([0., np.sqrt(G*M_sun/M_earth*mu/AU), 0.])\n",
    "v_Sun_ini   = np.array([0., -np.sqrt(G*M_earth/M_sun*mu/AU), 0.])"
   ]
  },
  {
   "cell_type": "markdown",
   "metadata": {},
   "source": [
    "Now we assign them to their fields."
   ]
  },
  {
   "cell_type": "code",
   "execution_count": 42,
   "metadata": {},
   "outputs": [],
   "source": [
    "sim.Earth.r = r_Earth_ini\n",
    "sim.Earth.v = v_Earth_ini\n",
    "sim.Sun.r   = r_Sun_ini\n",
    "sim.Sun.v   = v_Sun_ini"
   ]
  },
  {
   "cell_type": "markdown",
   "metadata": {},
   "source": [
    "**Starting the simulation**"
   ]
  },
  {
   "cell_type": "code",
   "execution_count": 43,
   "metadata": {},
   "outputs": [
    {
     "name": "stdout",
     "output_type": "stream",
     "text": [
      "Saving frame 0\n",
      "Saving frame 1\n",
      "Saving frame 2\n",
      "Saving frame 3\n",
      "Saving frame 4\n",
      "Saving frame 5\n",
      "Saving frame 6\n",
      "Saving frame 7\n",
      "Saving frame 8\n",
      "Saving frame 9\n",
      "Saving frame 10\n",
      "Saving frame 11\n",
      "Saving frame 12\n",
      "Saving frame 13\n",
      "Saving frame 14\n",
      "Saving frame 15\n",
      "Saving frame 16\n",
      "Saving frame 17\n",
      "Saving frame 18\n",
      "Saving frame 19\n",
      "Saving frame 20\n",
      "Saving frame 21\n",
      "Saving frame 22\n",
      "Saving frame 23\n",
      "Saving frame 24\n",
      "Saving frame 25\n",
      "Saving frame 26\n",
      "Saving frame 27\n",
      "Saving frame 28\n",
      "Saving frame 29\n",
      "Saving frame 30\n",
      "Saving frame 31\n",
      "Saving frame 32\n",
      "Saving frame 33\n",
      "Saving frame 34\n",
      "Saving frame 35\n",
      "Saving frame 36\n",
      "Saving frame 37\n",
      "Saving frame 38\n",
      "Saving frame 39\n",
      "Saving frame 40\n",
      "Saving frame 41\n",
      "Saving frame 42\n",
      "Saving frame 43\n",
      "Saving frame 44\n",
      "Saving frame 45\n",
      "Saving frame 46\n",
      "Saving frame 47\n",
      "Saving frame 48\n",
      "Saving frame 49\n",
      "Saving frame 50\n",
      "Saving frame 51\n",
      "Saving frame 52\n",
      "Saving frame 53\n",
      "Saving frame 54\n",
      "Saving frame 55\n",
      "Saving frame 56\n",
      "Saving frame 57\n",
      "Saving frame 58\n",
      "Saving frame 59\n",
      "Saving frame 60\n",
      "Saving frame 61\n",
      "Saving frame 62\n",
      "Saving frame 63\n",
      "Saving frame 64\n",
      "Saving frame 65\n",
      "Saving frame 66\n",
      "Saving frame 67\n",
      "Saving frame 68\n",
      "Saving frame 69\n",
      "Saving frame 70\n",
      "Saving frame 71\n",
      "Saving frame 72\n",
      "Saving frame 73\n"
     ]
    }
   ],
   "source": [
    "sim.run()"
   ]
  },
  {
   "cell_type": "markdown",
   "metadata": {},
   "source": [
    "**Reading and plotting**\n",
    "\n",
    "Reading data from the namespace writer works identical to the writer discussed earlier."
   ]
  },
  {
   "cell_type": "code",
   "execution_count": 44,
   "metadata": {},
   "outputs": [],
   "source": [
    "data_euler = sim.writer.read.all()"
   ]
  },
  {
   "cell_type": "code",
   "execution_count": 45,
   "metadata": {
    "jupyter": {
     "source_hidden": true
    }
   },
   "outputs": [],
   "source": [
    "import matplotlib.pyplot as plt\n",
    "\n",
    "def plot_orbits(data):\n",
    "    fig, ax = plt.subplots(dpi=150)\n",
    "    ax.set_aspect(1)\n",
    "    ax.axis(\"off\")\n",
    "    fig.set_facecolor(\"#000000\")\n",
    "    imax = data.t.shape[0]\n",
    "    for i in range(imax):\n",
    "        alpha = np.maximum(i/imax-0.33, 0.33)\n",
    "        ax.plot(data.Sun.r[i, 0], data.Sun.r[i, 1], \"o\", c=\"#FFFF00\", markersize=4, alpha=alpha)\n",
    "        ax.plot(data.Earth.r[i, 0], data.Earth.r[i, 1], \"o\", c=\"#0000FF\", markersize=1, alpha=alpha)\n",
    "    ax.plot(data.Sun.r[-1, 0], data.Sun.r[-1, 1], \"o\", c=\"#FFFF00\", markersize=16)\n",
    "    ax.plot(data.Earth.r[-1, 0], data.Earth.r[-1, 1], \"o\", c=\"#0000FF\", markersize=4)\n",
    "    ax.set_xlim(-1.5*AU, 1.5*AU)\n",
    "    ax.set_ylim(-1.5*AU, 1.5*AU)\n",
    "    fig.tight_layout()"
   ]
  },
  {
   "cell_type": "code",
   "execution_count": 46,
   "metadata": {},
   "outputs": [
    {
     "data": {
      "image/png": "[encoded data removed]",
      "text/plain": [
       "<Figure size 900x600 with 1 Axes>"
      ]
     },
     "metadata": {},
     "output_type": "display_data"
    }
   ],
   "source": [
    "plot_orbits(data_euler)"
   ]
  },
  {
   "cell_type": "markdown",
   "metadata": {},
   "source": [
    "## Leapfrog integration"
   ]
  },
  {
   "cell_type": "markdown",
   "metadata": {},
   "source": [
    "As you can see, the Earth is not on a circular orbit. Its orbital distance is increasing and because of that the Earth could not achieve two full orbital cycles.\n",
    "\n",
    "The problem is the simple integration scheme used here.\\\n",
    "Every integration scheme has numerical error. Some have larger ones than others. Euler's 1st order method is simply not suited for orbital integration.\n",
    "\n",
    "But there is a way out: [Symplectic integration](https://en.wikipedia.org/wiki/Symplectic_integrator)\\\n",
    "Symplectic integrators conserve the energy of the system.\n",
    "\n",
    "One of these methods is the Leapfrog method.\\\n",
    "Leapfrogging means the velocity and the position are not updated synchronous, but in between each other. They are leapfroggin each other.\n",
    "\n",
    "In our case we first update the velocities by using half of the step size. Then we update the positions for a full time step. And finally, we update the velocities for another semi time step. We can do this by using the `fstep` keyword argument for the instructions, which is the fraction of the time for which this instruction is applied.\n",
    "\n",
    "But there is one caveat: usually the fields that are integrated in an instructions set are only updated after all instructions have been executed, such that the second instruction still sees the original value of the first variable and not already the new value.\n",
    "\n",
    "But for leapfrog integration, the instruction for the positions already need to know the new values of the velocities. And the second set of velocity instructions already need to know the new positions. We therefore have to add `update` instructions in between. \n",
    "\n",
    "We do not have to add update instructions after the second set of velocity operations, because at the end of an instruction set all fields contained in the instruction set will be updated.\n",
    "\n",
    "The new leapfrog instruction set now looks like this."
   ]
  },
  {
   "cell_type": "code",
   "execution_count": 47,
   "metadata": {},
   "outputs": [],
   "source": [
    "instructions_leapfrog = [Instruction(schemes.expl_1_euler, sim.Sun.v,   fstep=0.5),\n",
    "                         Instruction(schemes.expl_1_euler, sim.Earth.v, fstep=0.5),\n",
    "                         Instruction(schemes.update,       sim.Sun.v             ),\n",
    "                         Instruction(schemes.update,       sim.Earth.v           ),\n",
    "                         Instruction(schemes.expl_1_euler, sim.Sun.r,   fstep=1.0),\n",
    "                         Instruction(schemes.expl_1_euler, sim.Earth.r, fstep=1.0),\n",
    "                         Instruction(schemes.update,       sim.Sun.r             ),\n",
    "                         Instruction(schemes.update,       sim.Earth.r           ),\n",
    "                         Instruction(schemes.expl_1_euler, sim.Sun.v,   fstep=0.5),\n",
    "                         Instruction(schemes.expl_1_euler, sim.Earth.v, fstep=0.5),\n",
    "                        ]"
   ]
  },
  {
   "cell_type": "markdown",
   "metadata": {},
   "source": [
    "We can assign this new instruction set to our frame. To rerun the simulation we have to reset the initial conditions, that we've saved earlier."
   ]
  },
  {
   "cell_type": "code",
   "execution_count": 48,
   "metadata": {},
   "outputs": [],
   "source": [
    "sim.integrator.instructions = instructions_leapfrog\n",
    "sim.integrator.description = \"Leapfrog integrator\"\n",
    "sim.Earth.r = r_Earth_ini\n",
    "sim.Earth.v = v_Earth_ini\n",
    "sim.Sun.r   = r_Sun_ini\n",
    "sim.Sun.v   = v_Sun_ini\n",
    "sim.t       = 0."
   ]
  },
  {
   "cell_type": "markdown",
   "metadata": {},
   "source": [
    "Additionally we have to reset the buffer of the namespace writer. Otherwise, we would simply add snapshots to the old dataset. Furthermore, we descrease the `verbosity` of the writer to prevent it from writing information on screen."
   ]
  },
  {
   "cell_type": "code",
   "execution_count": 49,
   "metadata": {},
   "outputs": [],
   "source": [
    "sim.writer.reset()\n",
    "sim.writer.verbosity = 0"
   ]
  },
  {
   "cell_type": "code",
   "execution_count": 50,
   "metadata": {},
   "outputs": [],
   "source": [
    "sim.run()"
   ]
  },
  {
   "cell_type": "code",
   "execution_count": 51,
   "metadata": {},
   "outputs": [],
   "source": [
    "data_leapfrog = sim.writer.read.all()"
   ]
  },
  {
   "cell_type": "code",
   "execution_count": 52,
   "metadata": {},
   "outputs": [
    {
     "data": {
      "image/png": "[encoded data removed]",
      "text/plain": [
       "<Figure size 900x600 with 1 Axes>"
      ]
     },
     "metadata": {},
     "output_type": "display_data"
    }
   ],
   "source": [
    "plot_orbits(data_leapfrog)"
   ]
  }
 ],
 "metadata": {
  "kernelspec": {
   "display_name": "Python 3",
   "language": "python",
   "name": "python3"
  },
  "language_info": {
   "codemirror_mode": {
    "name": "ipython",
    "version": 3
   },
   "file_extension": ".py",
   "mimetype": "text/x-python",
   "name": "python",
   "nbconvert_exporter": "python",
   "pygments_lexer": "ipython3",
   "version": "3.8.5"
  }
 },
 "nbformat": 4,
 "nbformat_minor": 4
}
