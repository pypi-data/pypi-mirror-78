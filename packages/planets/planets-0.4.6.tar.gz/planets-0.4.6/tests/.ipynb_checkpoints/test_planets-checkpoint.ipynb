{
 "cells": [
  {
   "cell_type": "code",
   "execution_count": 14,
   "metadata": {},
   "outputs": [],
   "source": [
    "from planets import *"
   ]
  },
  {
   "cell_type": "code",
   "execution_count": 12,
   "metadata": {},
   "outputs": [],
   "source": [
    "PLANETS = (\"mercury venus earth mars jupiter saturn uranus \"\n",
    "           \"neptune pluto triton europa ganymede bennu ceres vesta\").split()"
   ]
  },
  {
   "cell_type": "code",
   "execution_count": 13,
   "metadata": {},
   "outputs": [
    {
     "data": {
      "text/plain": [
       "['mercury',\n",
       " 'venus',\n",
       " 'earth',\n",
       " 'mars',\n",
       " 'jupiter',\n",
       " 'saturn',\n",
       " 'uranus',\n",
       " 'neptune',\n",
       " 'pluto',\n",
       " 'triton',\n",
       " 'ceres',\n",
       " 'vesta']"
      ]
     },
     "execution_count": 13,
     "metadata": {},
     "output_type": "execute_result"
    }
   ],
   "source": [
    "PLANETS"
   ]
  },
  {
   "cell_type": "code",
   "execution_count": null,
   "metadata": {},
   "outputs": [],
   "source": [
    "for planet in PLANETS:\n",
    "    from planet"
   ]
  }
 ],
 "metadata": {
  "kernelspec": {
   "display_name": "Python 3",
   "language": "python",
   "name": "python3"
  },
  "language_info": {
   "codemirror_mode": {
    "name": "ipython",
    "version": 3
   },
   "file_extension": ".py",
   "mimetype": "text/x-python",
   "name": "python",
   "nbconvert_exporter": "python",
   "pygments_lexer": "ipython3",
   "version": "3.7.3"
  }
 },
 "nbformat": 4,
 "nbformat_minor": 2
}
